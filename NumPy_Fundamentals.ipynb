{
  "nbformat": 4,
  "nbformat_minor": 0,
  "metadata": {
    "colab": {
      "name": "NumPy Fundamentals.ipynb",
      "version": "0.3.2",
      "provenance": [],
      "collapsed_sections": [
        "_PPwadPmH4qK",
        "5xVDUqfLKGP-",
        "OzPHV2xhYlee",
        "iqO6uQ5GGKif",
        "IYkpXyTXKxDt",
        "zn5syEGGS_4G",
        "XG125TEvbP7s",
        "lXj9Fucme78o",
        "6-DQbOmo940p",
        "4L8K7P-aRiWL",
        "PprwnXr0SSSI",
        "4l1Qwi4KSXRy",
        "OXi7ww6jTPax",
        "b_nmUl6X8kqd",
        "ecDy9TihCGPr",
        "tgvxoepFRV86",
        "xqhCOeXcXQMm",
        "Rz8dcZxmZZw4",
        "yG523yqqZezl",
        "WY_l3EuMabMX",
        "nNTERAT2bNvd",
        "EVU2AqygcIX_",
        "mZnLDsvGdar3"
      ],
      "include_colab_link": true
    },
    "kernelspec": {
      "name": "python3",
      "display_name": "Python 3"
    }
  },
  "cells": [
    {
      "cell_type": "markdown",
      "metadata": {
        "id": "view-in-github",
        "colab_type": "text"
      },
      "source": [
        "<a href=\"https://colab.research.google.com/github/SivarajTechM/AV-CPW/blob/master/NumPy_Fundamentals.ipynb\" target=\"_parent\"><img src=\"https://colab.research.google.com/assets/colab-badge.svg\" alt=\"Open In Colab\"/></a>"
      ]
    },
    {
      "cell_type": "markdown",
      "metadata": {
        "id": "_PPwadPmH4qK",
        "colab_type": "text"
      },
      "source": [
        "# Introduction to NumPy"
      ]
    },
    {
      "cell_type": "markdown",
      "metadata": {
        "id": "BG2d9R7CH6sC",
        "colab_type": "text"
      },
      "source": [
        "* NumPy is an abbreviation for **Numerical Python**\n",
        "* It is a Python library consisting of multidimensional array objects and a collection of routines for processing those arrays\n",
        "* Using NumPy, mathematical and logical operations on arrays can be performed. \n",
        "* Created by **Travis Oliphant** in 2005 by incorporating features of its predecessors Numarray and Numeric\n",
        "\n",
        "\n"
      ]
    },
    {
      "cell_type": "markdown",
      "metadata": {
        "id": "5xVDUqfLKGP-",
        "colab_type": "text"
      },
      "source": [
        "# Environment Setup"
      ]
    },
    {
      "cell_type": "markdown",
      "metadata": {
        "id": "dxDYRBl3KJ1l",
        "colab_type": "text"
      },
      "source": [
        "\n",
        "\n",
        "*   Standard Python distribution doesn't come bundled with NumPy module.\n",
        "*   A lightweight alternative is to install NumPy using popular Python package installer, pip.\n",
        "\n"
      ]
    },
    {
      "cell_type": "code",
      "metadata": {
        "id": "OxgRAPnBKZK2",
        "colab_type": "code",
        "colab": {}
      },
      "source": [
        "pip install numpy"
      ],
      "execution_count": 0,
      "outputs": []
    },
    {
      "cell_type": "markdown",
      "metadata": {
        "id": "OzPHV2xhYlee",
        "colab_type": "text"
      },
      "source": [
        "# NumPy vs. Python\n"
      ]
    },
    {
      "cell_type": "markdown",
      "metadata": {
        "id": "yVJIuyUDFyG-",
        "colab_type": "text"
      },
      "source": [
        "\n",
        "\n",
        "*   Less Coding in NumPy\n",
        "\n"
      ]
    },
    {
      "cell_type": "code",
      "metadata": {
        "id": "_mnIIAwPXj0Q",
        "colab_type": "code",
        "colab": {
          "base_uri": "https://localhost:8080/",
          "height": 35
        },
        "outputId": "8677a30b-dafe-45f5-a3d6-0ddce8241bcf"
      },
      "source": [
        "# Adding vectors using pure Python\n",
        "\n",
        "def pythonsum(n):\n",
        "  a = list(range(n))\n",
        "  b = list(range(n))\n",
        "  c = []\n",
        "  \n",
        "  for i in range(len(a)):\n",
        "    a[i] = i ** 2\n",
        "    b[i] = i ** 3\n",
        "    c.append(a[i] + b[i])\n",
        "  \n",
        "  return c\n",
        "\n",
        "pythonsum(10)"
      ],
      "execution_count": 2,
      "outputs": [
        {
          "output_type": "execute_result",
          "data": {
            "text/plain": [
              "[0, 2, 12, 36, 80, 150, 252, 392, 576, 810]"
            ]
          },
          "metadata": {
            "tags": []
          },
          "execution_count": 2
        }
      ]
    },
    {
      "cell_type": "code",
      "metadata": {
        "id": "lW3FELEsY2Rq",
        "colab_type": "code",
        "outputId": "90885eac-0b0a-4a16-c585-0c845a52503f",
        "colab": {
          "base_uri": "https://localhost:8080/",
          "height": 35
        }
      },
      "source": [
        "# Adding vectors in NumPy\n",
        "\n",
        "import numpy as np\n",
        "\n",
        "def numpysum(n):\n",
        "  a = np.arange(n) ** 2\n",
        "  b = np.arange(n) ** 3\n",
        "  c = a + b\n",
        "  return c\n",
        "\n",
        "numpysum(10)"
      ],
      "execution_count": 3,
      "outputs": [
        {
          "output_type": "execute_result",
          "data": {
            "text/plain": [
              "array([  0,   2,  12,  36,  80, 150, 252, 392, 576, 810])"
            ]
          },
          "metadata": {
            "tags": []
          },
          "execution_count": 3
        }
      ]
    },
    {
      "cell_type": "markdown",
      "metadata": {
        "id": "g4hUtYmnhIh3",
        "colab_type": "text"
      },
      "source": [
        "- NumPy is comparatively faster than Python"
      ]
    },
    {
      "cell_type": "code",
      "metadata": {
        "id": "qF-0Dnhhb4TU",
        "colab_type": "code",
        "outputId": "6334bb7a-f33d-4550-916c-377e065727eb",
        "colab": {
          "base_uri": "https://localhost:8080/",
          "height": 51
        }
      },
      "source": [
        "from datetime import datetime\n",
        "\n",
        "size = int(input(\"Enter any large number as size of the array: \"))\n",
        "\n",
        "start_time = datetime.now()\n",
        "c = pythonsum(size)\n",
        "time_taken = datetime.now() - start_time\n",
        "\n",
        "print(\"Time taken using Python: \", time_taken)\n"
      ],
      "execution_count": 0,
      "outputs": [
        {
          "output_type": "stream",
          "text": [
            "Enter any large number as size of the array: 10000000\n",
            "Time taken using Python:  0:00:09.631001\n"
          ],
          "name": "stdout"
        }
      ]
    },
    {
      "cell_type": "code",
      "metadata": {
        "id": "-S14HHyMdY2K",
        "colab_type": "code",
        "outputId": "bfd70a7f-c108-40c1-8175-c56cd1d31136",
        "colab": {
          "base_uri": "https://localhost:8080/",
          "height": 51
        }
      },
      "source": [
        "size = int(input(\"Enter any large number as size of the array: \"))\n",
        "\n",
        "start_time = datetime.now()\n",
        "c = numpysum(size)\n",
        "time_taken = datetime.now() - start_time\n",
        "\n",
        "print(\"Time taken using NumPy: \", time_taken)"
      ],
      "execution_count": 0,
      "outputs": [
        {
          "output_type": "stream",
          "text": [
            "Enter any large number as size of the array: 10000000\n",
            "Time taken using NumPy:  0:00:00.399164\n"
          ],
          "name": "stdout"
        }
      ]
    },
    {
      "cell_type": "code",
      "metadata": {
        "id": "x8v8nWcYd_Qc",
        "colab_type": "code",
        "outputId": "d5213353-fb7f-4ef7-b5b6-8dc367845eac",
        "colab": {
          "base_uri": "https://localhost:8080/",
          "height": 34
        }
      },
      "source": [
        "a = np.arange(5)\n",
        "a.dtype\n",
        "a.shape\n"
      ],
      "execution_count": 0,
      "outputs": [
        {
          "output_type": "execute_result",
          "data": {
            "text/plain": [
              "(5,)"
            ]
          },
          "metadata": {
            "tags": []
          },
          "execution_count": 16
        }
      ]
    },
    {
      "cell_type": "markdown",
      "metadata": {
        "id": "wxf73QnbengP",
        "colab_type": "text"
      },
      "source": [
        ""
      ]
    },
    {
      "cell_type": "code",
      "metadata": {
        "id": "WIgcqJTket7V",
        "colab_type": "code",
        "colab": {}
      },
      "source": [
        "for i in range(5): print(i)"
      ],
      "execution_count": 0,
      "outputs": []
    },
    {
      "cell_type": "code",
      "metadata": {
        "id": "EAtMmYxFhos0",
        "colab_type": "code",
        "colab": {}
      },
      "source": [
        "print(np.arange(5))"
      ],
      "execution_count": 0,
      "outputs": []
    },
    {
      "cell_type": "markdown",
      "metadata": {
        "id": "iqO6uQ5GGKif",
        "colab_type": "text"
      },
      "source": [
        "# Introduction to vectors and matrices"
      ]
    },
    {
      "cell_type": "markdown",
      "metadata": {
        "id": "KKExs22223Tv",
        "colab_type": "text"
      },
      "source": [
        "* A matrix is a group of numbers or elements which are arranged as a rectangular array\n",
        "\n",
        "* The matrix's rows and columns are usually indexed by a letter. For *n x m* matrix, *n* represents the number of rows and *m* representes number of columns\n",
        "\n",
        "* If *n = m* it is a square matrix\n",
        "\n",
        "$$\\begin{bmatrix} 1 & 2 & -1 \\\\ 3 & 0 & 1 \\\\ 0 & 2 & 4 \\end{bmatrix}$$\n",
        "\n",
        "* A vector is actually a matrix with one row or one column having more than one element. It can also be defined as a *1-by-m* or *n-by-1* matrix.\n",
        "\n",
        "* Zero matrix has all 0\n",
        "\n",
        "* Identity matrix has all diagonal elements as 1 while others are all 0\n",
        "\n",
        "* When you multiply a matrix with its inverse, the result will be an identity matrix\n",
        "\n",
        "\n",
        "\n",
        "\n"
      ]
    },
    {
      "cell_type": "code",
      "metadata": {
        "id": "czgHUZnp9dQ-",
        "colab_type": "code",
        "colab": {}
      },
      "source": [
        ""
      ],
      "execution_count": 0,
      "outputs": []
    },
    {
      "cell_type": "markdown",
      "metadata": {
        "id": "IYkpXyTXKxDt",
        "colab_type": "text"
      },
      "source": [
        "# NumPy Array Object"
      ]
    },
    {
      "cell_type": "markdown",
      "metadata": {
        "id": "9Ze0fZaDK6-W",
        "colab_type": "text"
      },
      "source": [
        "\n",
        "\n",
        "* The most important object defined in NumPy is an N-dimensional array type called **ndarray**\n",
        "* It describes the collection of items of the same type\n",
        "* Items in the collection can be accessed using a zero-based index\n",
        "* Every item in an ndarray takes the same size of block in the memory\n",
        "* Each element in ndarray is an object of data-type object (called **dtype**)\n",
        "\n"
      ]
    },
    {
      "cell_type": "markdown",
      "metadata": {
        "id": "zn5syEGGS_4G",
        "colab_type": "text"
      },
      "source": [
        "# NumPy Data Types"
      ]
    },
    {
      "cell_type": "markdown",
      "metadata": {
        "id": "9HnrDsIVTDca",
        "colab_type": "text"
      },
      "source": [
        "| S. No. | Data Type  |\n",
        "|--------|------------|\n",
        "| 1      | bool_      |\n",
        "| 2      | int_       |\n",
        "| 3      | int8       |\n",
        "| 4      | int16      |\n",
        "| 5      | int32      |\n",
        "| 6      | int64      |\n",
        "| 7      | float_     |\n",
        "| 8      | float16    |\n",
        "| 9      | float32    |\n",
        "| 10     | float64    |\n",
        "| 11     | complex_   |\n",
        "| 12     | complex64  |\n",
        "| 13     | complex128 |"
      ]
    },
    {
      "cell_type": "markdown",
      "metadata": {
        "id": "XG125TEvbP7s",
        "colab_type": "text"
      },
      "source": [
        "# Basics of NumPy array objects"
      ]
    },
    {
      "cell_type": "markdown",
      "metadata": {
        "id": "ATnJMo-Mee3q",
        "colab_type": "text"
      },
      "source": [
        "- NumPy’s main object is the homogeneous multidimensional array. \n",
        "- It is a table of elements (usually numbers), all of the same type, indexed by a tuple of positive integers. \n",
        "- In NumPy dimensions are called axes."
      ]
    },
    {
      "cell_type": "markdown",
      "metadata": {
        "id": "lXj9Fucme78o",
        "colab_type": "text"
      },
      "source": [
        "## Array Creation"
      ]
    },
    {
      "cell_type": "markdown",
      "metadata": {
        "id": "drM-hwWvfBOy",
        "colab_type": "text"
      },
      "source": [
        "You can create an array from a regular Python list or tuple using the array function. The type of the resulting array is deduced from the type of the elements in the sequences."
      ]
    },
    {
      "cell_type": "code",
      "metadata": {
        "id": "PJ950X_sfGFY",
        "colab_type": "code",
        "colab": {
          "base_uri": "https://localhost:8080/",
          "height": 35
        },
        "outputId": "702ba624-945e-4130-d59b-3c116013ece6"
      },
      "source": [
        "a = np.array([2,3,4])\n",
        "a"
      ],
      "execution_count": 73,
      "outputs": [
        {
          "output_type": "execute_result",
          "data": {
            "text/plain": [
              "array([2, 3, 4])"
            ]
          },
          "metadata": {
            "tags": []
          },
          "execution_count": 73
        }
      ]
    },
    {
      "cell_type": "markdown",
      "metadata": {
        "id": "ErysLiPRfPgm",
        "colab_type": "text"
      },
      "source": [
        "A frequent error consists in calling array with multiple numeric arguments, rather than providing a single list of numbers as an argument.\n",
        "\n",
        "a = np.array(1,2,3,4)    # WRONG\n",
        "\n",
        "\n",
        "a = np.array([1,2,3,4])  # RIGHT"
      ]
    },
    {
      "cell_type": "markdown",
      "metadata": {
        "id": "JZ0Qj4CHfUAs",
        "colab_type": "text"
      },
      "source": [
        "array transforms sequences of sequences into two-dimensional arrays, sequences of sequences of sequences into three-dimensional arrays, and so on."
      ]
    },
    {
      "cell_type": "code",
      "metadata": {
        "id": "ERaqUe0x9Tay",
        "colab_type": "code",
        "outputId": "c4c4b622-f9ee-4c57-fe60-422b3fbdc8b6",
        "colab": {
          "base_uri": "https://localhost:8080/",
          "height": 52
        }
      },
      "source": [
        "import numpy as np\n",
        "x = np.array([[1,2,3],[4,5,6]])\n",
        "x"
      ],
      "execution_count": 7,
      "outputs": [
        {
          "output_type": "execute_result",
          "data": {
            "text/plain": [
              "array([[1, 2, 3],\n",
              "       [4, 5, 6]])"
            ]
          },
          "metadata": {
            "tags": []
          },
          "execution_count": 7
        }
      ]
    },
    {
      "cell_type": "code",
      "metadata": {
        "id": "v3-tnUv99zrt",
        "colab_type": "code",
        "outputId": "a8d7c4ca-76eb-45e4-eb47-0a86a4b8cf53",
        "colab": {
          "base_uri": "https://localhost:8080/",
          "height": 35
        }
      },
      "source": [
        "# Type of array\n",
        "\n",
        "print(\"The type of the array is : \", type(x))"
      ],
      "execution_count": 8,
      "outputs": [
        {
          "output_type": "stream",
          "text": [
            "The type of the array is :  <class 'numpy.ndarray'>\n"
          ],
          "name": "stdout"
        }
      ]
    },
    {
      "cell_type": "code",
      "metadata": {
        "id": "l8KhvJQd-zbs",
        "colab_type": "code",
        "outputId": "f9c7e225-419b-4624-d40a-25d3257a8042",
        "colab": {
          "base_uri": "https://localhost:8080/",
          "height": 34
        }
      },
      "source": [
        "# Shape returns a tuple with dimensions of the array with rows & columns\n",
        "\n",
        "print(\"The shape of the array is : \", x.shape)"
      ],
      "execution_count": 0,
      "outputs": [
        {
          "output_type": "stream",
          "text": [
            "The shape of the array is :  (2, 3)\n"
          ],
          "name": "stdout"
        }
      ]
    },
    {
      "cell_type": "code",
      "metadata": {
        "id": "lLbPpofg-77T",
        "colab_type": "code",
        "outputId": "1043db3b-bd01-4aaf-f40b-f01c8a887c69",
        "colab": {
          "base_uri": "https://localhost:8080/",
          "height": 34
        }
      },
      "source": [
        "# Size returns the total number of elements in the array\n",
        "\n",
        "print(\"The total size is :\", x.size)"
      ],
      "execution_count": 0,
      "outputs": [
        {
          "output_type": "stream",
          "text": [
            "The total size is : 6\n"
          ],
          "name": "stdout"
        }
      ]
    },
    {
      "cell_type": "code",
      "metadata": {
        "id": "PdtNY9jg_MIs",
        "colab_type": "code",
        "outputId": "74ce30bf-0fe2-4a06-9455-71a168da0d5a",
        "colab": {
          "base_uri": "https://localhost:8080/",
          "height": 34
        }
      },
      "source": [
        "# ndim returns the dimension of the ndarray\n",
        "\n",
        "print(\"The dimension of the array is :\", x.ndim)"
      ],
      "execution_count": 0,
      "outputs": [
        {
          "output_type": "stream",
          "text": [
            "The dimension of the array is : 2\n"
          ],
          "name": "stdout"
        }
      ]
    },
    {
      "cell_type": "code",
      "metadata": {
        "id": "lep7ka4z_r4o",
        "colab_type": "code",
        "outputId": "7421d8da-6be8-4e11-b3f3-b203f12e6009",
        "colab": {
          "base_uri": "https://localhost:8080/",
          "height": 34
        }
      },
      "source": [
        "# dtype returns the data type of the array elements\n",
        "\n",
        "print(\"The data types of the array elements are :\", x.dtype )"
      ],
      "execution_count": 0,
      "outputs": [
        {
          "output_type": "stream",
          "text": [
            "The data types of the array elements are : int64\n"
          ],
          "name": "stdout"
        }
      ]
    },
    {
      "cell_type": "code",
      "metadata": {
        "id": "SwIlgpz-_vPB",
        "colab_type": "code",
        "outputId": "0b29f2f4-270b-4f44-fff0-19bba05a6bfb",
        "colab": {
          "base_uri": "https://localhost:8080/",
          "height": 34
        }
      },
      "source": [
        "# nbytes returns the memory consumption of the array\n",
        "\n",
        "print(\"The array consumes :\", x.nbytes , \" bytes\")"
      ],
      "execution_count": 0,
      "outputs": [
        {
          "output_type": "stream",
          "text": [
            "The array consumes : 48  bytes\n"
          ],
          "name": "stdout"
        }
      ]
    },
    {
      "cell_type": "code",
      "metadata": {
        "id": "SsBe1mhoAV7A",
        "colab_type": "code",
        "outputId": "a7a775d8-656e-40c3-9339-fa3cc634a3d9",
        "colab": {
          "base_uri": "https://localhost:8080/",
          "height": 68
        }
      },
      "source": [
        "# You can specify the data type while creating your array using dtype attribute\n",
        "\n",
        "x = np.array([[1,2,3],[4,5,6]], dtype=np.float)\n",
        "print(x)\n",
        "print(\"Memory used: \", x.nbytes)"
      ],
      "execution_count": 0,
      "outputs": [
        {
          "output_type": "stream",
          "text": [
            "[[1. 2. 3.]\n",
            " [4. 5. 6.]]\n",
            "Memory used:  48\n"
          ],
          "name": "stdout"
        }
      ]
    },
    {
      "cell_type": "code",
      "metadata": {
        "id": "Mvt751p9OQmI",
        "colab_type": "code",
        "outputId": "7d111428-9025-4df1-a7d9-0f2ed82edeab",
        "colab": {
          "base_uri": "https://localhost:8080/",
          "height": 68
        }
      },
      "source": [
        "x = np.array([[1,2,3],[4,5,6]], dtype=np.complex)\n",
        "print(x)\n",
        "print(\"Memory used: \", x.nbytes)"
      ],
      "execution_count": 0,
      "outputs": [
        {
          "output_type": "stream",
          "text": [
            "[[1.+0.j 2.+0.j 3.+0.j]\n",
            " [4.+0.j 5.+0.j 6.+0.j]]\n",
            "Memory used:  96\n"
          ],
          "name": "stdout"
        }
      ]
    },
    {
      "cell_type": "code",
      "metadata": {
        "id": "tmR5xK0GOUVq",
        "colab_type": "code",
        "outputId": "efc767fb-d514-4567-d786-a3ce5c494c30",
        "colab": {
          "base_uri": "https://localhost:8080/",
          "height": 68
        }
      },
      "source": [
        "x = np.array([[1,2,3],[4,5,6]], dtype=np.uint32)\n",
        "print(x)\n",
        "print(\"Memory used: \", x.nbytes)"
      ],
      "execution_count": 0,
      "outputs": [
        {
          "output_type": "stream",
          "text": [
            "[[1 2 3]\n",
            " [4 5 6]]\n",
            "Memory used:  24\n"
          ],
          "name": "stdout"
        }
      ]
    },
    {
      "cell_type": "markdown",
      "metadata": {
        "id": "Yh8wpdYoPcX-",
        "colab_type": "text"
      },
      "source": [
        "**You cannot change the dtype after creating the array**. \n",
        "However, we can create a copy of the array with a new dtype and with the astype attribute."
      ]
    },
    {
      "cell_type": "code",
      "metadata": {
        "id": "oyQZHBEIPTdM",
        "colab_type": "code",
        "outputId": "883c6c37-e9c5-450d-b694-d6c0fe5b7fe7",
        "colab": {
          "base_uri": "https://localhost:8080/",
          "height": 51
        }
      },
      "source": [
        "x_copy = np.array(x, dtype = np.float)\n",
        "x_copy"
      ],
      "execution_count": 0,
      "outputs": [
        {
          "output_type": "execute_result",
          "data": {
            "text/plain": [
              "array([[1., 2., 3.],\n",
              "       [4., 5., 6.]])"
            ]
          },
          "metadata": {
            "tags": []
          },
          "execution_count": 28
        }
      ]
    },
    {
      "cell_type": "code",
      "metadata": {
        "id": "IxdeOSLYP0fN",
        "colab_type": "code",
        "outputId": "a50e0c3a-1ad8-45ad-9d01-4c49031b3f25",
        "colab": {
          "base_uri": "https://localhost:8080/",
          "height": 51
        }
      },
      "source": [
        "x_copy_int = x_copy.astype(np.int)\n",
        "x_copy_int"
      ],
      "execution_count": 0,
      "outputs": [
        {
          "output_type": "execute_result",
          "data": {
            "text/plain": [
              "array([[1, 2, 3],\n",
              "       [4, 5, 6]])"
            ]
          },
          "metadata": {
            "tags": []
          },
          "execution_count": 29
        }
      ]
    },
    {
      "cell_type": "markdown",
      "metadata": {
        "id": "6-DQbOmo940p",
        "colab_type": "text"
      },
      "source": [
        "## Effect of dtype: \n",
        "\n",
        "Imagine a case where you are trying to identify and calculate the risks of an individual patient who has cancer.\n",
        "\n",
        "If you have 100,000 records (rows), where each row represents a single patient, and each patient has 100 features (results of some of the tests), you have (100000, 100) arrays:"
      ]
    },
    {
      "cell_type": "code",
      "metadata": {
        "id": "uH1c7M0RQQO7",
        "colab_type": "code",
        "outputId": "ff6d4a19-f7e3-4e55-b8e7-4ce7eb813869",
        "colab": {
          "base_uri": "https://localhost:8080/",
          "height": 51
        }
      },
      "source": [
        "Data_Cancer= np.random.rand(100000,100)\n",
        "print(\"Memory consumption with dtype as \", Data_Cancer.dtype, \" : \", Data_Cancer.nbytes)\n",
        "\n",
        "Data_Cancer_New = np.array(Data_Cancer, dtype = np.float32)\n",
        "print(\"Memory consumption with dtype as \", Data_Cancer_New.dtype, \" : \",  Data_Cancer_New.nbytes)"
      ],
      "execution_count": 0,
      "outputs": [
        {
          "output_type": "stream",
          "text": [
            "Memory consumption with dtype as  float64  :  80000000\n",
            "Memory consumption with dtype as  float32  :  40000000\n"
          ],
          "name": "stdout"
        }
      ]
    },
    {
      "cell_type": "markdown",
      "metadata": {
        "id": "RLb6cGbrgAIC",
        "colab_type": "text"
      },
      "source": [
        "To create sequences of numbers, NumPy provides a function analogous to range that returns arrays instead of lists."
      ]
    },
    {
      "cell_type": "code",
      "metadata": {
        "id": "EhMsvXISgDhP",
        "colab_type": "code",
        "colab": {
          "base_uri": "https://localhost:8080/",
          "height": 35
        },
        "outputId": "6ec4606c-5f33-43b3-c85e-01729163dc93"
      },
      "source": [
        "np.arange( 10, 30, 5 )"
      ],
      "execution_count": 74,
      "outputs": [
        {
          "output_type": "execute_result",
          "data": {
            "text/plain": [
              "array([10, 15, 20, 25])"
            ]
          },
          "metadata": {
            "tags": []
          },
          "execution_count": 74
        }
      ]
    },
    {
      "cell_type": "code",
      "metadata": {
        "id": "Rdfc3D8MgJMS",
        "colab_type": "code",
        "colab": {
          "base_uri": "https://localhost:8080/",
          "height": 35
        },
        "outputId": "c00bbcb4-ad4d-4031-d7ea-82d25c46d0a9"
      },
      "source": [
        "np.arange( 0, 2, 0.3 )    # it accepts float arguments"
      ],
      "execution_count": 75,
      "outputs": [
        {
          "output_type": "execute_result",
          "data": {
            "text/plain": [
              "array([0. , 0.3, 0.6, 0.9, 1.2, 1.5, 1.8])"
            ]
          },
          "metadata": {
            "tags": []
          },
          "execution_count": 75
        }
      ]
    },
    {
      "cell_type": "markdown",
      "metadata": {
        "id": "4L8K7P-aRiWL",
        "colab_type": "text"
      },
      "source": [
        "# NumPy array operations\n"
      ]
    },
    {
      "cell_type": "markdown",
      "metadata": {
        "id": "PprwnXr0SSSI",
        "colab_type": "text"
      },
      "source": [
        "## Creating NumPy array from a list:"
      ]
    },
    {
      "cell_type": "code",
      "metadata": {
        "id": "x2SjYLT6SMeP",
        "colab_type": "code",
        "outputId": "e22b4aac-105a-414b-8725-1fee77d9355a",
        "colab": {
          "base_uri": "https://localhost:8080/",
          "height": 35
        }
      },
      "source": [
        "my_list = [2, 14, 6, 8]\n",
        "\n",
        "my_array = np.asarray(my_list)\n",
        "type(my_array)"
      ],
      "execution_count": 12,
      "outputs": [
        {
          "output_type": "execute_result",
          "data": {
            "text/plain": [
              "numpy.ndarray"
            ]
          },
          "metadata": {
            "tags": []
          },
          "execution_count": 12
        }
      ]
    },
    {
      "cell_type": "markdown",
      "metadata": {
        "id": "4l1Qwi4KSXRy",
        "colab_type": "text"
      },
      "source": [
        "## Arithmetic operations with scalar value:"
      ]
    },
    {
      "cell_type": "code",
      "metadata": {
        "id": "3tNrdxlZSO6o",
        "colab_type": "code",
        "outputId": "449e8d5f-3d6b-48c1-ffee-a670983b4626",
        "colab": {
          "base_uri": "https://localhost:8080/",
          "height": 85
        }
      },
      "source": [
        "print(my_array + 2)\n",
        "\n",
        "print(my_array - 1)\n",
        "\n",
        "print(my_array * 2)\n",
        "\n",
        "print(my_array / 2)\n"
      ],
      "execution_count": 0,
      "outputs": [
        {
          "output_type": "stream",
          "text": [
            "[ 4 16  8 10]\n",
            "[ 1 13  5  7]\n",
            "[ 4 28 12 16]\n",
            "[1. 7. 3. 4.]\n"
          ],
          "name": "stdout"
        }
      ]
    },
    {
      "cell_type": "markdown",
      "metadata": {
        "id": "OXi7ww6jTPax",
        "colab_type": "text"
      },
      "source": [
        "## Arithmetic operations between arrays:\n"
      ]
    },
    {
      "cell_type": "code",
      "metadata": {
        "id": "P7snOV6KfpTl",
        "colab_type": "code",
        "colab": {
          "base_uri": "https://localhost:8080/",
          "height": 35
        },
        "outputId": "d8146c34-cd73-4b8d-db00-cfd76ea995a5"
      },
      "source": [
        "second_array = np.zeros(4) + 3\n",
        "second_array"
      ],
      "execution_count": 9,
      "outputs": [
        {
          "output_type": "execute_result",
          "data": {
            "text/plain": [
              "array([3., 3., 3., 3.])"
            ]
          },
          "metadata": {
            "tags": []
          },
          "execution_count": 9
        }
      ]
    },
    {
      "cell_type": "code",
      "metadata": {
        "id": "AZJhdAifgKtM",
        "colab_type": "code",
        "colab": {
          "base_uri": "https://localhost:8080/",
          "height": 35
        },
        "outputId": "5d549028-6975-43c6-98e6-4be410011d81"
      },
      "source": [
        "my_array - second_array"
      ],
      "execution_count": 13,
      "outputs": [
        {
          "output_type": "execute_result",
          "data": {
            "text/plain": [
              "array([-1., 11.,  3.,  5.])"
            ]
          },
          "metadata": {
            "tags": []
          },
          "execution_count": 13
        }
      ]
    },
    {
      "cell_type": "code",
      "metadata": {
        "id": "t9ZIdQkHfw3G",
        "colab_type": "code",
        "colab": {
          "base_uri": "https://localhost:8080/",
          "height": 35
        },
        "outputId": "8ea8b84b-bc4f-4ff5-bfb1-2e740fc3aad7"
      },
      "source": [
        "third_array = np.ones(4) + 3\n",
        "third_array"
      ],
      "execution_count": 10,
      "outputs": [
        {
          "output_type": "execute_result",
          "data": {
            "text/plain": [
              "array([4., 4., 4., 4.])"
            ]
          },
          "metadata": {
            "tags": []
          },
          "execution_count": 10
        }
      ]
    },
    {
      "cell_type": "code",
      "metadata": {
        "id": "CsZ3SwnmgaKQ",
        "colab_type": "code",
        "colab": {
          "base_uri": "https://localhost:8080/",
          "height": 35
        },
        "outputId": "63eabe11-0eda-4dc5-f3ff-f9fcb28cba73"
      },
      "source": [
        "my_array - third_array"
      ],
      "execution_count": 14,
      "outputs": [
        {
          "output_type": "execute_result",
          "data": {
            "text/plain": [
              "array([-2., 10.,  2.,  4.])"
            ]
          },
          "metadata": {
            "tags": []
          },
          "execution_count": 14
        }
      ]
    },
    {
      "cell_type": "markdown",
      "metadata": {
        "id": "b_nmUl6X8kqd",
        "colab_type": "text"
      },
      "source": [
        "# Creating Arrays"
      ]
    },
    {
      "cell_type": "code",
      "metadata": {
        "id": "O2j6Ffi5hrXE",
        "colab_type": "code",
        "outputId": "f1f874b3-4393-487a-a0a6-e2bc534f6b51",
        "colab": {
          "base_uri": "https://localhost:8080/",
          "height": 68
        }
      },
      "source": [
        "import numpy as np\n",
        "\n",
        "# a = np.arange(15)\n",
        "# a\n",
        "\n",
        "a = np.arange(15).reshape(3,5)\n",
        "a\n"
      ],
      "execution_count": 0,
      "outputs": [
        {
          "output_type": "execute_result",
          "data": {
            "text/plain": [
              "array([[ 0,  1,  2,  3,  4],\n",
              "       [ 5,  6,  7,  8,  9],\n",
              "       [10, 11, 12, 13, 14]])"
            ]
          },
          "metadata": {
            "tags": []
          },
          "execution_count": 20
        }
      ]
    },
    {
      "cell_type": "code",
      "metadata": {
        "id": "vAdEoWIf--8w",
        "colab_type": "code",
        "outputId": "a8e588d3-a406-4e4e-f5c0-f469c565ec7e",
        "colab": {
          "base_uri": "https://localhost:8080/",
          "height": 34
        }
      },
      "source": [
        "a.shape"
      ],
      "execution_count": 0,
      "outputs": [
        {
          "output_type": "execute_result",
          "data": {
            "text/plain": [
              "(3, 5)"
            ]
          },
          "metadata": {
            "tags": []
          },
          "execution_count": 21
        }
      ]
    },
    {
      "cell_type": "code",
      "metadata": {
        "id": "2gK1nVpvAv2u",
        "colab_type": "code",
        "outputId": "b0dba7cd-7699-459c-8b76-754eb4aa684e",
        "colab": {
          "base_uri": "https://localhost:8080/",
          "height": 34
        }
      },
      "source": [
        "a.ndim"
      ],
      "execution_count": 0,
      "outputs": [
        {
          "output_type": "execute_result",
          "data": {
            "text/plain": [
              "2"
            ]
          },
          "metadata": {
            "tags": []
          },
          "execution_count": 22
        }
      ]
    },
    {
      "cell_type": "code",
      "metadata": {
        "id": "ZqK9t8b6AxI-",
        "colab_type": "code",
        "outputId": "1fd0db64-186c-4c9d-dd84-57eeb0e67f98",
        "colab": {
          "base_uri": "https://localhost:8080/",
          "height": 34
        }
      },
      "source": [
        "a.dtype.name"
      ],
      "execution_count": 0,
      "outputs": [
        {
          "output_type": "execute_result",
          "data": {
            "text/plain": [
              "'int64'"
            ]
          },
          "metadata": {
            "tags": []
          },
          "execution_count": 23
        }
      ]
    },
    {
      "cell_type": "code",
      "metadata": {
        "id": "8THr0r5uAzH-",
        "colab_type": "code",
        "outputId": "f2f79df1-5480-47c0-9780-45df365a570f",
        "colab": {
          "base_uri": "https://localhost:8080/",
          "height": 34
        }
      },
      "source": [
        "a.itemsize"
      ],
      "execution_count": 0,
      "outputs": [
        {
          "output_type": "execute_result",
          "data": {
            "text/plain": [
              "8"
            ]
          },
          "metadata": {
            "tags": []
          },
          "execution_count": 24
        }
      ]
    },
    {
      "cell_type": "code",
      "metadata": {
        "id": "I7oEebUDA00O",
        "colab_type": "code",
        "outputId": "cf05e906-2ba5-471b-b7cd-6355d07fa9a5",
        "colab": {
          "base_uri": "https://localhost:8080/",
          "height": 34
        }
      },
      "source": [
        "a.size"
      ],
      "execution_count": 0,
      "outputs": [
        {
          "output_type": "execute_result",
          "data": {
            "text/plain": [
              "15"
            ]
          },
          "metadata": {
            "tags": []
          },
          "execution_count": 25
        }
      ]
    },
    {
      "cell_type": "code",
      "metadata": {
        "id": "opNfPmkFA5Qv",
        "colab_type": "code",
        "outputId": "a3d8ce12-a5be-4527-c65b-a76da09f618c",
        "colab": {
          "base_uri": "https://localhost:8080/",
          "height": 34
        }
      },
      "source": [
        "type(a)"
      ],
      "execution_count": 0,
      "outputs": [
        {
          "output_type": "execute_result",
          "data": {
            "text/plain": [
              "numpy.ndarray"
            ]
          },
          "metadata": {
            "tags": []
          },
          "execution_count": 26
        }
      ]
    },
    {
      "cell_type": "code",
      "metadata": {
        "id": "AxfN0OovA7Ff",
        "colab_type": "code",
        "outputId": "f4894b32-0177-401b-fa54-a00081ba33c2",
        "colab": {
          "base_uri": "https://localhost:8080/",
          "height": 34
        }
      },
      "source": [
        "b = np.array([6,7,8])\n",
        "b"
      ],
      "execution_count": 0,
      "outputs": [
        {
          "output_type": "execute_result",
          "data": {
            "text/plain": [
              "array([6, 7, 8])"
            ]
          },
          "metadata": {
            "tags": []
          },
          "execution_count": 27
        }
      ]
    },
    {
      "cell_type": "code",
      "metadata": {
        "id": "CJKHT_eEBBCf",
        "colab_type": "code",
        "outputId": "c1f9ad31-876d-48a9-f678-fece2aa1feb7",
        "colab": {
          "base_uri": "https://localhost:8080/",
          "height": 34
        }
      },
      "source": [
        "type(b)"
      ],
      "execution_count": 0,
      "outputs": [
        {
          "output_type": "execute_result",
          "data": {
            "text/plain": [
              "numpy.ndarray"
            ]
          },
          "metadata": {
            "tags": []
          },
          "execution_count": 28
        }
      ]
    },
    {
      "cell_type": "code",
      "metadata": {
        "id": "jO8IxroMBCuH",
        "colab_type": "code",
        "outputId": "44aae82f-0c68-4adb-f6c2-ee37bc9678cf",
        "colab": {
          "base_uri": "https://localhost:8080/",
          "height": 136
        }
      },
      "source": [
        "print(np.arange(10000).reshape(100,100))"
      ],
      "execution_count": 0,
      "outputs": [
        {
          "output_type": "stream",
          "text": [
            "[[   0    1    2 ...   97   98   99]\n",
            " [ 100  101  102 ...  197  198  199]\n",
            " [ 200  201  202 ...  297  298  299]\n",
            " ...\n",
            " [9700 9701 9702 ... 9797 9798 9799]\n",
            " [9800 9801 9802 ... 9897 9898 9899]\n",
            " [9900 9901 9902 ... 9997 9998 9999]]\n"
          ],
          "name": "stdout"
        }
      ]
    },
    {
      "cell_type": "code",
      "metadata": {
        "id": "UbGlHMSsBRUg",
        "colab_type": "code",
        "colab": {}
      },
      "source": [
        "np.set_printoptions(threshold=np.nan)"
      ],
      "execution_count": 0,
      "outputs": []
    },
    {
      "cell_type": "markdown",
      "metadata": {
        "id": "ecDy9TihCGPr",
        "colab_type": "text"
      },
      "source": [
        "# Basic Operations"
      ]
    },
    {
      "cell_type": "markdown",
      "metadata": {
        "id": "kIKidP-oPNq3",
        "colab_type": "text"
      },
      "source": [
        "Arithmetic operations on arrays apply elementwise"
      ]
    },
    {
      "cell_type": "code",
      "metadata": {
        "id": "MWTQNI8tBgQK",
        "colab_type": "code",
        "outputId": "ac3c2a15-e07b-4578-e8e1-fa4301a646bf",
        "colab": {
          "base_uri": "https://localhost:8080/",
          "height": 34
        }
      },
      "source": [
        "a = np.array([10,20,30,40])\n",
        "b = np.arange(4)\n",
        "b"
      ],
      "execution_count": 0,
      "outputs": [
        {
          "output_type": "execute_result",
          "data": {
            "text/plain": [
              "array([0, 1, 2, 3])"
            ]
          },
          "metadata": {
            "tags": []
          },
          "execution_count": 34
        }
      ]
    },
    {
      "cell_type": "code",
      "metadata": {
        "id": "Sw-trxptCQUs",
        "colab_type": "code",
        "outputId": "2e60efcd-63ce-4c13-8372-aa289f0de432",
        "colab": {
          "base_uri": "https://localhost:8080/",
          "height": 34
        }
      },
      "source": [
        "c = a - b\n",
        "c"
      ],
      "execution_count": 0,
      "outputs": [
        {
          "output_type": "execute_result",
          "data": {
            "text/plain": [
              "array([10, 19, 28, 37])"
            ]
          },
          "metadata": {
            "tags": []
          },
          "execution_count": 36
        }
      ]
    },
    {
      "cell_type": "code",
      "metadata": {
        "id": "fertlmVKCSxT",
        "colab_type": "code",
        "outputId": "3ae57220-7971-4803-f2dd-480e807199ce",
        "colab": {
          "base_uri": "https://localhost:8080/",
          "height": 34
        }
      },
      "source": [
        "b ** 2\n"
      ],
      "execution_count": 0,
      "outputs": [
        {
          "output_type": "execute_result",
          "data": {
            "text/plain": [
              "array([0, 1, 4, 9])"
            ]
          },
          "metadata": {
            "tags": []
          },
          "execution_count": 37
        }
      ]
    },
    {
      "cell_type": "code",
      "metadata": {
        "id": "tDLEcCZ9CZwk",
        "colab_type": "code",
        "outputId": "091474dd-806a-4baf-8a60-e38dd6141803",
        "colab": {
          "base_uri": "https://localhost:8080/",
          "height": 34
        }
      },
      "source": [
        "10 * np.sin(a)"
      ],
      "execution_count": 0,
      "outputs": [
        {
          "output_type": "execute_result",
          "data": {
            "text/plain": [
              "array([-5.44021111,  9.12945251, -9.88031624,  7.4511316 ])"
            ]
          },
          "metadata": {
            "tags": []
          },
          "execution_count": 38
        }
      ]
    },
    {
      "cell_type": "code",
      "metadata": {
        "id": "IVqHzJ9MCeUd",
        "colab_type": "code",
        "outputId": "5981b67e-15cc-4105-8313-cb36d48ff126",
        "colab": {
          "base_uri": "https://localhost:8080/",
          "height": 34
        }
      },
      "source": [
        "a < 35"
      ],
      "execution_count": 0,
      "outputs": [
        {
          "output_type": "execute_result",
          "data": {
            "text/plain": [
              "array([ True,  True,  True, False])"
            ]
          },
          "metadata": {
            "tags": []
          },
          "execution_count": 39
        }
      ]
    },
    {
      "cell_type": "markdown",
      "metadata": {
        "id": "N2tuxC4OPfr2",
        "colab_type": "text"
      },
      "source": [
        "For product operation, you can choose elementwise product or matrix product"
      ]
    },
    {
      "cell_type": "code",
      "metadata": {
        "id": "1WU65DKsP1Td",
        "colab_type": "code",
        "colab": {
          "base_uri": "https://localhost:8080/",
          "height": 52
        },
        "outputId": "3c0695f7-1e33-4a54-9c7f-9eec9f1b3b48"
      },
      "source": [
        "import numpy as np\n",
        "\n",
        "A = np.array([[1,1],[0,1]])\n",
        "B = np.array([[2,0],[3,4]])\n",
        "A * B # elementwise product"
      ],
      "execution_count": 3,
      "outputs": [
        {
          "output_type": "execute_result",
          "data": {
            "text/plain": [
              "array([[2, 0],\n",
              "       [0, 4]])"
            ]
          },
          "metadata": {
            "tags": []
          },
          "execution_count": 3
        }
      ]
    },
    {
      "cell_type": "code",
      "metadata": {
        "id": "WToZpCV_Cgoo",
        "colab_type": "code",
        "colab": {
          "base_uri": "https://localhost:8080/",
          "height": 52
        },
        "outputId": "c05c8248-d638-4a3a-9f10-a10dafa07f75"
      },
      "source": [
        "A.dot(B) # matrix product"
      ],
      "execution_count": 4,
      "outputs": [
        {
          "output_type": "execute_result",
          "data": {
            "text/plain": [
              "array([[5, 4],\n",
              "       [3, 4]])"
            ]
          },
          "metadata": {
            "tags": []
          },
          "execution_count": 4
        }
      ]
    },
    {
      "cell_type": "code",
      "metadata": {
        "id": "JWDN1MxtRCxt",
        "colab_type": "code",
        "colab": {
          "base_uri": "https://localhost:8080/",
          "height": 52
        },
        "outputId": "0ca3d676-93eb-4437-f1aa-ad8458abaf0c"
      },
      "source": [
        "np.dot(A, B) # another matrix product"
      ],
      "execution_count": 5,
      "outputs": [
        {
          "output_type": "execute_result",
          "data": {
            "text/plain": [
              "array([[5, 4],\n",
              "       [3, 4]])"
            ]
          },
          "metadata": {
            "tags": []
          },
          "execution_count": 5
        }
      ]
    },
    {
      "cell_type": "markdown",
      "metadata": {
        "id": "tgvxoepFRV86",
        "colab_type": "text"
      },
      "source": [
        "# Indexing, Slicing and Iterating"
      ]
    },
    {
      "cell_type": "markdown",
      "metadata": {
        "id": "T7lGJBzoRi9v",
        "colab_type": "text"
      },
      "source": [
        "One-dimensional arrays can be indexed, sliced and iterated over (like lists and other Python sequences)"
      ]
    },
    {
      "cell_type": "code",
      "metadata": {
        "id": "sii4W-voSCQU",
        "colab_type": "code",
        "colab": {
          "base_uri": "https://localhost:8080/",
          "height": 35
        },
        "outputId": "bb8d5444-db65-470f-9f5b-3a63efadcdcf"
      },
      "source": [
        "a = np.arange(10) ** 2\n",
        "a"
      ],
      "execution_count": 15,
      "outputs": [
        {
          "output_type": "execute_result",
          "data": {
            "text/plain": [
              "array([ 0,  1,  4,  9, 16, 25, 36, 49, 64, 81])"
            ]
          },
          "metadata": {
            "tags": []
          },
          "execution_count": 15
        }
      ]
    },
    {
      "cell_type": "code",
      "metadata": {
        "id": "jCsda43HSGwP",
        "colab_type": "code",
        "colab": {
          "base_uri": "https://localhost:8080/",
          "height": 35
        },
        "outputId": "72bfc2af-ad2c-4453-8fd9-cc3787843ef3"
      },
      "source": [
        "a[2] #indexing"
      ],
      "execution_count": 17,
      "outputs": [
        {
          "output_type": "execute_result",
          "data": {
            "text/plain": [
              "4"
            ]
          },
          "metadata": {
            "tags": []
          },
          "execution_count": 17
        }
      ]
    },
    {
      "cell_type": "code",
      "metadata": {
        "id": "HOhuDDQOSI51",
        "colab_type": "code",
        "colab": {
          "base_uri": "https://localhost:8080/",
          "height": 35
        },
        "outputId": "3c7a2055-422c-4e19-d94c-f4bee56bd1f7"
      },
      "source": [
        "a[2:5] #slicing from 3 - 5"
      ],
      "execution_count": 18,
      "outputs": [
        {
          "output_type": "execute_result",
          "data": {
            "text/plain": [
              "array([ 4,  9, 16])"
            ]
          },
          "metadata": {
            "tags": []
          },
          "execution_count": 18
        }
      ]
    },
    {
      "cell_type": "code",
      "metadata": {
        "id": "OlmPTEI0SV0R",
        "colab_type": "code",
        "colab": {
          "base_uri": "https://localhost:8080/",
          "height": 35
        },
        "outputId": "f79f7562-fa0f-457d-f675-0674e5a13eb1"
      },
      "source": [
        "a[:6:2] = -1 # equivalent to a[0:6:2] = -1; from start to position 6, set every 2nd element to -1\n",
        "\n",
        "a"
      ],
      "execution_count": 19,
      "outputs": [
        {
          "output_type": "execute_result",
          "data": {
            "text/plain": [
              "array([-1,  1, -1,  9, -1, 25, 36, 49, 64, 81])"
            ]
          },
          "metadata": {
            "tags": []
          },
          "execution_count": 19
        }
      ]
    },
    {
      "cell_type": "code",
      "metadata": {
        "id": "mCcBsfiqSLiR",
        "colab_type": "code",
        "colab": {
          "base_uri": "https://localhost:8080/",
          "height": 35
        },
        "outputId": "cf1e3b74-85a3-403d-a85d-621e2e33729d"
      },
      "source": [
        "a[ : :-1] # reverse print the array"
      ],
      "execution_count": 20,
      "outputs": [
        {
          "output_type": "execute_result",
          "data": {
            "text/plain": [
              "array([81, 64, 49, 36, 25, -1,  9, -1,  1, -1])"
            ]
          },
          "metadata": {
            "tags": []
          },
          "execution_count": 20
        }
      ]
    },
    {
      "cell_type": "code",
      "metadata": {
        "id": "5_oVuMo6Sv6h",
        "colab_type": "code",
        "colab": {
          "base_uri": "https://localhost:8080/",
          "height": 191
        },
        "outputId": "5b54f26c-9cd1-40f5-aeff-f7e19eb6a37c"
      },
      "source": [
        "for i in a:\n",
        "  print(i**(1/2)) # iteration example"
      ],
      "execution_count": 16,
      "outputs": [
        {
          "output_type": "stream",
          "text": [
            "0.0\n",
            "1.0\n",
            "2.0\n",
            "3.0\n",
            "4.0\n",
            "5.0\n",
            "6.0\n",
            "7.0\n",
            "8.0\n",
            "9.0\n"
          ],
          "name": "stdout"
        }
      ]
    },
    {
      "cell_type": "markdown",
      "metadata": {
        "id": "y9f4IrUkT45T",
        "colab_type": "text"
      },
      "source": [
        "Multidimensional arrays can have one index per axis. These indices have to be mentioned in a tuple separated by commas"
      ]
    },
    {
      "cell_type": "code",
      "metadata": {
        "id": "JXgbvbNyTHdI",
        "colab_type": "code",
        "colab": {
          "base_uri": "https://localhost:8080/",
          "height": 104
        },
        "outputId": "4cabbc6c-9473-4403-bf38-bd9e4724602a"
      },
      "source": [
        "def f(x,y):\n",
        "  return 10*x+y\n",
        "  \n",
        "b = np.fromfunction(f,(5,4),dtype=int)\n",
        "b\n"
      ],
      "execution_count": 23,
      "outputs": [
        {
          "output_type": "execute_result",
          "data": {
            "text/plain": [
              "array([[ 0,  1,  2,  3],\n",
              "       [10, 11, 12, 13],\n",
              "       [20, 21, 22, 23],\n",
              "       [30, 31, 32, 33],\n",
              "       [40, 41, 42, 43]])"
            ]
          },
          "metadata": {
            "tags": []
          },
          "execution_count": 23
        }
      ]
    },
    {
      "cell_type": "code",
      "metadata": {
        "id": "xNyjBMrIUdDI",
        "colab_type": "code",
        "colab": {
          "base_uri": "https://localhost:8080/",
          "height": 35
        },
        "outputId": "3f00a04c-a2d2-4302-a092-24dc407d509e"
      },
      "source": [
        "b[2,3] # indexing with row & column indices"
      ],
      "execution_count": 24,
      "outputs": [
        {
          "output_type": "execute_result",
          "data": {
            "text/plain": [
              "23"
            ]
          },
          "metadata": {
            "tags": []
          },
          "execution_count": 24
        }
      ]
    },
    {
      "cell_type": "code",
      "metadata": {
        "id": "fDOmFXsZUt7d",
        "colab_type": "code",
        "colab": {
          "base_uri": "https://localhost:8080/",
          "height": 35
        },
        "outputId": "7891874a-c14b-4ff9-d010-33a1ae8d398b"
      },
      "source": [
        "b[0:5, 1] # each row in second column of b"
      ],
      "execution_count": 25,
      "outputs": [
        {
          "output_type": "execute_result",
          "data": {
            "text/plain": [
              "array([ 1, 11, 21, 31, 41])"
            ]
          },
          "metadata": {
            "tags": []
          },
          "execution_count": 25
        }
      ]
    },
    {
      "cell_type": "code",
      "metadata": {
        "id": "HnxqG7bnU04c",
        "colab_type": "code",
        "colab": {
          "base_uri": "https://localhost:8080/",
          "height": 35
        },
        "outputId": "19b8ce7e-b1e8-4678-fcdc-f7805e74aa85"
      },
      "source": [
        "b[:,1] # same as above"
      ],
      "execution_count": 26,
      "outputs": [
        {
          "output_type": "execute_result",
          "data": {
            "text/plain": [
              "array([ 1, 11, 21, 31, 41])"
            ]
          },
          "metadata": {
            "tags": []
          },
          "execution_count": 26
        }
      ]
    },
    {
      "cell_type": "code",
      "metadata": {
        "id": "iytYVueiU935",
        "colab_type": "code",
        "colab": {
          "base_uri": "https://localhost:8080/",
          "height": 52
        },
        "outputId": "eca6b580-48b4-4ec2-c3b4-f0ad96979caa"
      },
      "source": [
        "b[1:3, :] #each column in the second and third row of b"
      ],
      "execution_count": 27,
      "outputs": [
        {
          "output_type": "execute_result",
          "data": {
            "text/plain": [
              "array([[10, 11, 12, 13],\n",
              "       [20, 21, 22, 23]])"
            ]
          },
          "metadata": {
            "tags": []
          },
          "execution_count": 27
        }
      ]
    },
    {
      "cell_type": "code",
      "metadata": {
        "id": "KHFLsrHpVGZe",
        "colab_type": "code",
        "colab": {
          "base_uri": "https://localhost:8080/",
          "height": 35
        },
        "outputId": "061afa31-653a-41c1-dcd2-55799a68d9a7"
      },
      "source": [
        "#missing indices are considered as complete slices :\n",
        "\n",
        "b[-1] # prints the last row. Equivalent to b[-1,:]"
      ],
      "execution_count": 28,
      "outputs": [
        {
          "output_type": "execute_result",
          "data": {
            "text/plain": [
              "array([40, 41, 42, 43])"
            ]
          },
          "metadata": {
            "tags": []
          },
          "execution_count": 28
        }
      ]
    },
    {
      "cell_type": "code",
      "metadata": {
        "id": "syS5jo5OVYTq",
        "colab_type": "code",
        "colab": {
          "base_uri": "https://localhost:8080/",
          "height": 35
        },
        "outputId": "3faf9e1b-c2a3-4c47-b0fe-d9f28a4338d4"
      },
      "source": [
        "#NumPy also allows you to write this using dots as b[i,...]\n",
        "\n",
        "b[1,...] #same as b[1,:,:] or b[1]"
      ],
      "execution_count": 29,
      "outputs": [
        {
          "output_type": "execute_result",
          "data": {
            "text/plain": [
              "array([10, 11, 12, 13])"
            ]
          },
          "metadata": {
            "tags": []
          },
          "execution_count": 29
        }
      ]
    },
    {
      "cell_type": "code",
      "metadata": {
        "id": "V-dlgEWTWPIH",
        "colab_type": "code",
        "colab": {
          "base_uri": "https://localhost:8080/",
          "height": 35
        },
        "outputId": "9f5723f4-8219-49e7-dfd5-c1b06919563c"
      },
      "source": [
        "b[...,2] #same as b[:,:,2] or b[:,2]"
      ],
      "execution_count": 30,
      "outputs": [
        {
          "output_type": "execute_result",
          "data": {
            "text/plain": [
              "array([ 2, 12, 22, 32, 42])"
            ]
          },
          "metadata": {
            "tags": []
          },
          "execution_count": 30
        }
      ]
    },
    {
      "cell_type": "code",
      "metadata": {
        "id": "PB7EGzFJWcmi",
        "colab_type": "code",
        "colab": {
          "base_uri": "https://localhost:8080/",
          "height": 104
        },
        "outputId": "6e833993-1c00-4c84-b5c7-300e72648246"
      },
      "source": [
        "# Iterating over mutlidimensional arrays is done with respect to first axis\n",
        "\n",
        "for row in b:\n",
        "  print(row)"
      ],
      "execution_count": 33,
      "outputs": [
        {
          "output_type": "stream",
          "text": [
            "[0 1 2 3]\n",
            "[10 11 12 13]\n",
            "[20 21 22 23]\n",
            "[30 31 32 33]\n",
            "[40 41 42 43]\n"
          ],
          "name": "stdout"
        }
      ]
    },
    {
      "cell_type": "code",
      "metadata": {
        "id": "TF2lO5siWhWY",
        "colab_type": "code",
        "colab": {
          "base_uri": "https://localhost:8080/",
          "height": 364
        },
        "outputId": "559b3ceb-a9b4-44df-8e6b-e3824663eca5"
      },
      "source": [
        "# To perform an operation on each element in the array, use the flat attribute\n",
        "\n",
        "for element in b.flat:\n",
        "  print(element)"
      ],
      "execution_count": 34,
      "outputs": [
        {
          "output_type": "stream",
          "text": [
            "0\n",
            "1\n",
            "2\n",
            "3\n",
            "10\n",
            "11\n",
            "12\n",
            "13\n",
            "20\n",
            "21\n",
            "22\n",
            "23\n",
            "30\n",
            "31\n",
            "32\n",
            "33\n",
            "40\n",
            "41\n",
            "42\n",
            "43\n"
          ],
          "name": "stdout"
        }
      ]
    },
    {
      "cell_type": "markdown",
      "metadata": {
        "id": "xqhCOeXcXQMm",
        "colab_type": "text"
      },
      "source": [
        "# Shape Manipulation"
      ]
    },
    {
      "cell_type": "markdown",
      "metadata": {
        "id": "Rz8dcZxmZZw4",
        "colab_type": "text"
      },
      "source": [
        "## Changing shape of the array"
      ]
    },
    {
      "cell_type": "markdown",
      "metadata": {
        "id": "tGBc4L2mXTbp",
        "colab_type": "text"
      },
      "source": [
        "An array has a shape given by the number of elements along each axis"
      ]
    },
    {
      "cell_type": "code",
      "metadata": {
        "id": "VN--CW0bXNff",
        "colab_type": "code",
        "colab": {
          "base_uri": "https://localhost:8080/",
          "height": 35
        },
        "outputId": "43ab01de-3313-4c11-f04d-3e57098bdd25"
      },
      "source": [
        "b.shape"
      ],
      "execution_count": 35,
      "outputs": [
        {
          "output_type": "execute_result",
          "data": {
            "text/plain": [
              "(5, 4)"
            ]
          },
          "metadata": {
            "tags": []
          },
          "execution_count": 35
        }
      ]
    },
    {
      "cell_type": "markdown",
      "metadata": {
        "id": "t5FIx5UbXiy3",
        "colab_type": "text"
      },
      "source": [
        "- Shape can be changed with various commands\n",
        "- Following commands return a modified array but do not change the original array"
      ]
    },
    {
      "cell_type": "code",
      "metadata": {
        "id": "aRgvWnsRXw_H",
        "colab_type": "code",
        "colab": {
          "base_uri": "https://localhost:8080/",
          "height": 52
        },
        "outputId": "629704df-ccea-45d4-98a5-4ca6364901ca"
      },
      "source": [
        "b.ravel() # returns the array, flattened"
      ],
      "execution_count": 37,
      "outputs": [
        {
          "output_type": "execute_result",
          "data": {
            "text/plain": [
              "array([ 0,  1,  2,  3, 10, 11, 12, 13, 20, 21, 22, 23, 30, 31, 32, 33, 40,\n",
              "       41, 42, 43])"
            ]
          },
          "metadata": {
            "tags": []
          },
          "execution_count": 37
        }
      ]
    },
    {
      "cell_type": "code",
      "metadata": {
        "id": "evHs3PNLXdV2",
        "colab_type": "code",
        "colab": {
          "base_uri": "https://localhost:8080/",
          "height": 87
        },
        "outputId": "2a23161e-f6a3-45f5-d762-a335d1913c8f"
      },
      "source": [
        "b.reshape(4,5) # returns the array with modified shape "
      ],
      "execution_count": 38,
      "outputs": [
        {
          "output_type": "execute_result",
          "data": {
            "text/plain": [
              "array([[ 0,  1,  2,  3, 10],\n",
              "       [11, 12, 13, 20, 21],\n",
              "       [22, 23, 30, 31, 32],\n",
              "       [33, 40, 41, 42, 43]])"
            ]
          },
          "metadata": {
            "tags": []
          },
          "execution_count": 38
        }
      ]
    },
    {
      "cell_type": "code",
      "metadata": {
        "id": "yP-2SjkxYDMs",
        "colab_type": "code",
        "colab": {
          "base_uri": "https://localhost:8080/",
          "height": 87
        },
        "outputId": "d6f7c98c-069a-48a9-fa18-950dd43f2238"
      },
      "source": [
        "b.T # returns the transposed array"
      ],
      "execution_count": 39,
      "outputs": [
        {
          "output_type": "execute_result",
          "data": {
            "text/plain": [
              "array([[ 0, 10, 20, 30, 40],\n",
              "       [ 1, 11, 21, 31, 41],\n",
              "       [ 2, 12, 22, 32, 42],\n",
              "       [ 3, 13, 23, 33, 43]])"
            ]
          },
          "metadata": {
            "tags": []
          },
          "execution_count": 39
        }
      ]
    },
    {
      "cell_type": "markdown",
      "metadata": {
        "id": "N6e8hVKzYlIH",
        "colab_type": "text"
      },
      "source": [
        "- reshape function returns its argument with a modified shape\n",
        "- resize method modifies the array itself"
      ]
    },
    {
      "cell_type": "code",
      "metadata": {
        "id": "qMjYvyYaYKcX",
        "colab_type": "code",
        "colab": {
          "base_uri": "https://localhost:8080/",
          "height": 104
        },
        "outputId": "beb3db62-babf-4853-9c80-1f47c220103e"
      },
      "source": [
        "b"
      ],
      "execution_count": 40,
      "outputs": [
        {
          "output_type": "execute_result",
          "data": {
            "text/plain": [
              "array([[ 0,  1,  2,  3],\n",
              "       [10, 11, 12, 13],\n",
              "       [20, 21, 22, 23],\n",
              "       [30, 31, 32, 33],\n",
              "       [40, 41, 42, 43]])"
            ]
          },
          "metadata": {
            "tags": []
          },
          "execution_count": 40
        }
      ]
    },
    {
      "cell_type": "code",
      "metadata": {
        "id": "zVzd5wADYxQ8",
        "colab_type": "code",
        "colab": {}
      },
      "source": [
        "b.resize((4,5))"
      ],
      "execution_count": 0,
      "outputs": []
    },
    {
      "cell_type": "code",
      "metadata": {
        "id": "BqT6wUT7Y1ha",
        "colab_type": "code",
        "colab": {
          "base_uri": "https://localhost:8080/",
          "height": 87
        },
        "outputId": "a8c4ec49-9415-45da-b080-94763ce1028d"
      },
      "source": [
        "b"
      ],
      "execution_count": 42,
      "outputs": [
        {
          "output_type": "execute_result",
          "data": {
            "text/plain": [
              "array([[ 0,  1,  2,  3, 10],\n",
              "       [11, 12, 13, 20, 21],\n",
              "       [22, 23, 30, 31, 32],\n",
              "       [33, 40, 41, 42, 43]])"
            ]
          },
          "metadata": {
            "tags": []
          },
          "execution_count": 42
        }
      ]
    },
    {
      "cell_type": "code",
      "metadata": {
        "id": "BwhGa2vgY5h5",
        "colab_type": "code",
        "colab": {
          "base_uri": "https://localhost:8080/",
          "height": 104
        },
        "outputId": "368d1c4e-cc3a-4163-b9b3-5481c70209b6"
      },
      "source": [
        "b.reshape(5,-1) # -1 in reshape operation automatically calculates it\n"
      ],
      "execution_count": 45,
      "outputs": [
        {
          "output_type": "execute_result",
          "data": {
            "text/plain": [
              "array([[ 0,  1,  2,  3],\n",
              "       [10, 11, 12, 13],\n",
              "       [20, 21, 22, 23],\n",
              "       [30, 31, 32, 33],\n",
              "       [40, 41, 42, 43]])"
            ]
          },
          "metadata": {
            "tags": []
          },
          "execution_count": 45
        }
      ]
    },
    {
      "cell_type": "code",
      "metadata": {
        "id": "6Cdt2iAYZMp4",
        "colab_type": "code",
        "colab": {}
      },
      "source": [
        ""
      ],
      "execution_count": 0,
      "outputs": []
    },
    {
      "cell_type": "markdown",
      "metadata": {
        "id": "yG523yqqZezl",
        "colab_type": "text"
      },
      "source": [
        "## Stacking together different arrays"
      ]
    },
    {
      "cell_type": "markdown",
      "metadata": {
        "id": "IOiesjrtZudw",
        "colab_type": "text"
      },
      "source": [
        "Several arrays can be stacked together along different axes:"
      ]
    },
    {
      "cell_type": "code",
      "metadata": {
        "id": "1cW_Cv2vZ8Vc",
        "colab_type": "code",
        "colab": {
          "base_uri": "https://localhost:8080/",
          "height": 52
        },
        "outputId": "24aee2a2-cd83-4c4e-f014-d0aa8fa4f114"
      },
      "source": [
        "a = np.floor(10*np.random.random((2,2)))\n",
        "a"
      ],
      "execution_count": 46,
      "outputs": [
        {
          "output_type": "execute_result",
          "data": {
            "text/plain": [
              "array([[4., 9.],\n",
              "       [3., 1.]])"
            ]
          },
          "metadata": {
            "tags": []
          },
          "execution_count": 46
        }
      ]
    },
    {
      "cell_type": "code",
      "metadata": {
        "id": "QSKx_Xp7Z6b1",
        "colab_type": "code",
        "colab": {
          "base_uri": "https://localhost:8080/",
          "height": 52
        },
        "outputId": "375933b2-c8ac-4cd2-cb57-c730139d684c"
      },
      "source": [
        "b = np.floor(10*np.random.random((2,2)))\n",
        "b"
      ],
      "execution_count": 47,
      "outputs": [
        {
          "output_type": "execute_result",
          "data": {
            "text/plain": [
              "array([[8., 6.],\n",
              "       [7., 7.]])"
            ]
          },
          "metadata": {
            "tags": []
          },
          "execution_count": 47
        }
      ]
    },
    {
      "cell_type": "code",
      "metadata": {
        "id": "2jXfTyFRaF5Z",
        "colab_type": "code",
        "colab": {
          "base_uri": "https://localhost:8080/",
          "height": 87
        },
        "outputId": "52d85ab4-4c32-4534-f1ce-2115aa1b07e4"
      },
      "source": [
        "np.vstack((a,b)) # vertically stack"
      ],
      "execution_count": 48,
      "outputs": [
        {
          "output_type": "execute_result",
          "data": {
            "text/plain": [
              "array([[4., 9.],\n",
              "       [3., 1.],\n",
              "       [8., 6.],\n",
              "       [7., 7.]])"
            ]
          },
          "metadata": {
            "tags": []
          },
          "execution_count": 48
        }
      ]
    },
    {
      "cell_type": "code",
      "metadata": {
        "id": "uKruc1UjaMM-",
        "colab_type": "code",
        "colab": {
          "base_uri": "https://localhost:8080/",
          "height": 52
        },
        "outputId": "4a4e2bb3-4d4a-4c80-f7fa-e26ad9f28cdf"
      },
      "source": [
        "np.hstack((a,b)) # horizontal stack"
      ],
      "execution_count": 49,
      "outputs": [
        {
          "output_type": "execute_result",
          "data": {
            "text/plain": [
              "array([[4., 9., 8., 6.],\n",
              "       [3., 1., 7., 7.]])"
            ]
          },
          "metadata": {
            "tags": []
          },
          "execution_count": 49
        }
      ]
    },
    {
      "cell_type": "markdown",
      "metadata": {
        "id": "WY_l3EuMabMX",
        "colab_type": "text"
      },
      "source": [
        "## Splitting arrays"
      ]
    },
    {
      "cell_type": "markdown",
      "metadata": {
        "id": "UVg2p5xbafmj",
        "colab_type": "text"
      },
      "source": [
        "Using `hsplit`, you can split an array along its horizontal axis, either by specifying the number of equally shaped arrays to return, or by specifying the columns after which the division should occur"
      ]
    },
    {
      "cell_type": "code",
      "metadata": {
        "id": "KxlfsLjhaivS",
        "colab_type": "code",
        "colab": {
          "base_uri": "https://localhost:8080/",
          "height": 52
        },
        "outputId": "6ffe128b-9466-4458-bbb9-4646c960cb17"
      },
      "source": [
        "a = np.floor(10*np.random.random((2,12)))\n",
        "a"
      ],
      "execution_count": 50,
      "outputs": [
        {
          "output_type": "execute_result",
          "data": {
            "text/plain": [
              "array([[7., 4., 9., 5., 7., 2., 8., 1., 4., 7., 9., 6.],\n",
              "       [2., 7., 9., 9., 2., 8., 1., 9., 9., 6., 2., 4.]])"
            ]
          },
          "metadata": {
            "tags": []
          },
          "execution_count": 50
        }
      ]
    },
    {
      "cell_type": "code",
      "metadata": {
        "id": "sgHRCm6TaREh",
        "colab_type": "code",
        "colab": {
          "base_uri": "https://localhost:8080/",
          "height": 87
        },
        "outputId": "abdb8dc2-bedc-448c-d4e5-6ccbe1eadfb2"
      },
      "source": [
        "np.hsplit(a,3) #splits a into 3"
      ],
      "execution_count": 51,
      "outputs": [
        {
          "output_type": "execute_result",
          "data": {
            "text/plain": [
              "[array([[7., 4., 9., 5.],\n",
              "        [2., 7., 9., 9.]]), array([[7., 2., 8., 1.],\n",
              "        [2., 8., 1., 9.]]), array([[4., 7., 9., 6.],\n",
              "        [9., 6., 2., 4.]])]"
            ]
          },
          "metadata": {
            "tags": []
          },
          "execution_count": 51
        }
      ]
    },
    {
      "cell_type": "code",
      "metadata": {
        "id": "HA12IHU0azTM",
        "colab_type": "code",
        "colab": {
          "base_uri": "https://localhost:8080/",
          "height": 87
        },
        "outputId": "310c15a3-a0cd-48e0-8e36-a04efe83e195"
      },
      "source": [
        "np.hsplit(a, (3,4)) #split a after the third and fourth column"
      ],
      "execution_count": 52,
      "outputs": [
        {
          "output_type": "execute_result",
          "data": {
            "text/plain": [
              "[array([[7., 4., 9.],\n",
              "        [2., 7., 9.]]), array([[5.],\n",
              "        [9.]]), array([[7., 2., 8., 1., 4., 7., 9., 6.],\n",
              "        [2., 8., 1., 9., 9., 6., 2., 4.]])]"
            ]
          },
          "metadata": {
            "tags": []
          },
          "execution_count": 52
        }
      ]
    },
    {
      "cell_type": "markdown",
      "metadata": {
        "id": "LKpAobJKbG8f",
        "colab_type": "text"
      },
      "source": [
        "`vsplit` splits along the vertical axis, and `array_split` allows one to specify along which axis to split"
      ]
    },
    {
      "cell_type": "markdown",
      "metadata": {
        "id": "nNTERAT2bNvd",
        "colab_type": "text"
      },
      "source": [
        "## Copies and Views"
      ]
    },
    {
      "cell_type": "markdown",
      "metadata": {
        "id": "vWfpGPgDbScj",
        "colab_type": "text"
      },
      "source": [
        "Simple assignments make no copy of array objects or of their data."
      ]
    },
    {
      "cell_type": "code",
      "metadata": {
        "id": "Tz9wa4LBa9y0",
        "colab_type": "code",
        "colab": {
          "base_uri": "https://localhost:8080/",
          "height": 35
        },
        "outputId": "643af1cc-2f57-4396-8039-9a427d2af73f"
      },
      "source": [
        "a = np.arange(12)\n",
        "b = a # no new object is created\n",
        "b is a # a and b are two names for the same ndarray object"
      ],
      "execution_count": 54,
      "outputs": [
        {
          "output_type": "execute_result",
          "data": {
            "text/plain": [
              "True"
            ]
          },
          "metadata": {
            "tags": []
          },
          "execution_count": 54
        }
      ]
    },
    {
      "cell_type": "code",
      "metadata": {
        "id": "3Y4no27gbnLu",
        "colab_type": "code",
        "colab": {
          "base_uri": "https://localhost:8080/",
          "height": 35
        },
        "outputId": "b37df3d0-b0e5-46ba-e947-1765b0702575"
      },
      "source": [
        "b.shape = 3,4 #changes the shape of a\n",
        "a.shape"
      ],
      "execution_count": 55,
      "outputs": [
        {
          "output_type": "execute_result",
          "data": {
            "text/plain": [
              "(3, 4)"
            ]
          },
          "metadata": {
            "tags": []
          },
          "execution_count": 55
        }
      ]
    },
    {
      "cell_type": "markdown",
      "metadata": {
        "id": "ILwBOQzxbwep",
        "colab_type": "text"
      },
      "source": [
        "Python passes mutable objects as references, so function calls make no copy."
      ]
    },
    {
      "cell_type": "code",
      "metadata": {
        "id": "ovfwpZAwbtT3",
        "colab_type": "code",
        "colab": {
          "base_uri": "https://localhost:8080/",
          "height": 35
        },
        "outputId": "08c73db3-77af-47e2-8951-881619811751"
      },
      "source": [
        "def f(x):\n",
        "  print(id(x)) # id is a unique identifier of an object \n",
        "  \n",
        "id(a)"
      ],
      "execution_count": 57,
      "outputs": [
        {
          "output_type": "execute_result",
          "data": {
            "text/plain": [
              "139810974013920"
            ]
          },
          "metadata": {
            "tags": []
          },
          "execution_count": 57
        }
      ]
    },
    {
      "cell_type": "code",
      "metadata": {
        "id": "nlw3CJ9kb9wH",
        "colab_type": "code",
        "colab": {
          "base_uri": "https://localhost:8080/",
          "height": 35
        },
        "outputId": "352a770d-b20a-471c-897a-d56772f75d07"
      },
      "source": [
        "f(a)"
      ],
      "execution_count": 58,
      "outputs": [
        {
          "output_type": "stream",
          "text": [
            "139810974013920\n"
          ],
          "name": "stdout"
        }
      ]
    },
    {
      "cell_type": "markdown",
      "metadata": {
        "id": "EVU2AqygcIX_",
        "colab_type": "text"
      },
      "source": [
        "## View or Shallow Copy"
      ]
    },
    {
      "cell_type": "markdown",
      "metadata": {
        "id": "KGMYE70YcMEq",
        "colab_type": "text"
      },
      "source": [
        "Different array objects can share the same data. The view method creates a new array object that looks at the same data"
      ]
    },
    {
      "cell_type": "code",
      "metadata": {
        "id": "kBvgOfyWcSmk",
        "colab_type": "code",
        "colab": {
          "base_uri": "https://localhost:8080/",
          "height": 35
        },
        "outputId": "a62366c1-8387-4ee5-f0d9-1e794f5a62d1"
      },
      "source": [
        "c = a.view()\n",
        "c is a"
      ],
      "execution_count": 59,
      "outputs": [
        {
          "output_type": "execute_result",
          "data": {
            "text/plain": [
              "False"
            ]
          },
          "metadata": {
            "tags": []
          },
          "execution_count": 59
        }
      ]
    },
    {
      "cell_type": "code",
      "metadata": {
        "id": "blLsJ4SQcCir",
        "colab_type": "code",
        "colab": {
          "base_uri": "https://localhost:8080/",
          "height": 35
        },
        "outputId": "7712382e-a08f-47d2-8588-80d273081c87"
      },
      "source": [
        "c.base is a    # c is a view of the data owned by a"
      ],
      "execution_count": 60,
      "outputs": [
        {
          "output_type": "execute_result",
          "data": {
            "text/plain": [
              "True"
            ]
          },
          "metadata": {
            "tags": []
          },
          "execution_count": 60
        }
      ]
    },
    {
      "cell_type": "code",
      "metadata": {
        "id": "LKHvTvMdcXrN",
        "colab_type": "code",
        "colab": {
          "base_uri": "https://localhost:8080/",
          "height": 35
        },
        "outputId": "2cec3297-d8f0-4096-8c88-124d83179322"
      },
      "source": [
        "c.shape = 2,6  # a's shape doesn't change\n",
        "a.shape"
      ],
      "execution_count": 61,
      "outputs": [
        {
          "output_type": "execute_result",
          "data": {
            "text/plain": [
              "(3, 4)"
            ]
          },
          "metadata": {
            "tags": []
          },
          "execution_count": 61
        }
      ]
    },
    {
      "cell_type": "code",
      "metadata": {
        "id": "3-Iw_Y7TckJm",
        "colab_type": "code",
        "colab": {
          "base_uri": "https://localhost:8080/",
          "height": 69
        },
        "outputId": "32bddcb4-d8ad-4b2b-9b4a-5540a1f4600c"
      },
      "source": [
        "a\n"
      ],
      "execution_count": 62,
      "outputs": [
        {
          "output_type": "execute_result",
          "data": {
            "text/plain": [
              "array([[ 0,  1,  2,  3],\n",
              "       [ 4,  5,  6,  7],\n",
              "       [ 8,  9, 10, 11]])"
            ]
          },
          "metadata": {
            "tags": []
          },
          "execution_count": 62
        }
      ]
    },
    {
      "cell_type": "code",
      "metadata": {
        "id": "j4xLkebIcrnj",
        "colab_type": "code",
        "colab": {
          "base_uri": "https://localhost:8080/",
          "height": 69
        },
        "outputId": "9f81608a-ed72-4330-c37f-259c6140495c"
      },
      "source": [
        "c[0,4]=1234  # a's data changes\n",
        "a"
      ],
      "execution_count": 63,
      "outputs": [
        {
          "output_type": "execute_result",
          "data": {
            "text/plain": [
              "array([[   0,    1,    2,    3],\n",
              "       [1234,    5,    6,    7],\n",
              "       [   8,    9,   10,   11]])"
            ]
          },
          "metadata": {
            "tags": []
          },
          "execution_count": 63
        }
      ]
    },
    {
      "cell_type": "markdown",
      "metadata": {
        "id": "xg5pyuiDc4hR",
        "colab_type": "text"
      },
      "source": [
        "Slicing an array returns a view of it:"
      ]
    },
    {
      "cell_type": "code",
      "metadata": {
        "id": "IcCaWorEc8oL",
        "colab_type": "code",
        "colab": {
          "base_uri": "https://localhost:8080/",
          "height": 69
        },
        "outputId": "089557d8-b920-43a4-adfa-133a4a5be92e"
      },
      "source": [
        "s = a[ : , 1:3]     # spaces added for clarity; could also be written \"s = a[:,1:3]\"\n",
        "s"
      ],
      "execution_count": 68,
      "outputs": [
        {
          "output_type": "execute_result",
          "data": {
            "text/plain": [
              "array([[10, 10],\n",
              "       [10, 10],\n",
              "       [10, 10]])"
            ]
          },
          "metadata": {
            "tags": []
          },
          "execution_count": 68
        }
      ]
    },
    {
      "cell_type": "code",
      "metadata": {
        "id": "TA6Xjv5ZczRJ",
        "colab_type": "code",
        "colab": {}
      },
      "source": [
        "s[:] = 10           # s[:] is a view of s. Note the difference between s=10 and s[:]=10\n",
        "s"
      ],
      "execution_count": 0,
      "outputs": []
    },
    {
      "cell_type": "code",
      "metadata": {
        "id": "C1OyjWridJb3",
        "colab_type": "code",
        "colab": {
          "base_uri": "https://localhost:8080/",
          "height": 69
        },
        "outputId": "c8687acf-411a-430b-943f-09956811eb31"
      },
      "source": [
        "a"
      ],
      "execution_count": 66,
      "outputs": [
        {
          "output_type": "execute_result",
          "data": {
            "text/plain": [
              "array([[   0,   10,   10,    3],\n",
              "       [1234,   10,   10,    7],\n",
              "       [   8,   10,   10,   11]])"
            ]
          },
          "metadata": {
            "tags": []
          },
          "execution_count": 66
        }
      ]
    },
    {
      "cell_type": "markdown",
      "metadata": {
        "id": "mZnLDsvGdar3",
        "colab_type": "text"
      },
      "source": [
        "## Deep copy"
      ]
    },
    {
      "cell_type": "code",
      "metadata": {
        "id": "Ezokk-74deEt",
        "colab_type": "code",
        "colab": {
          "base_uri": "https://localhost:8080/",
          "height": 35
        },
        "outputId": "171af37d-bdc8-42e0-b9b2-5822f139efce"
      },
      "source": [
        "d = a.copy()       # a new array object with new data is created\n",
        "d is a"
      ],
      "execution_count": 69,
      "outputs": [
        {
          "output_type": "execute_result",
          "data": {
            "text/plain": [
              "False"
            ]
          },
          "metadata": {
            "tags": []
          },
          "execution_count": 69
        }
      ]
    },
    {
      "cell_type": "code",
      "metadata": {
        "id": "w5aYcKAadplM",
        "colab_type": "code",
        "colab": {
          "base_uri": "https://localhost:8080/",
          "height": 35
        },
        "outputId": "17e2f1c5-7388-4469-fb85-80e15c5ddee2"
      },
      "source": [
        "d.base is a        # d doesn't share anything with a"
      ],
      "execution_count": 70,
      "outputs": [
        {
          "output_type": "execute_result",
          "data": {
            "text/plain": [
              "False"
            ]
          },
          "metadata": {
            "tags": []
          },
          "execution_count": 70
        }
      ]
    },
    {
      "cell_type": "code",
      "metadata": {
        "id": "53xqrRkMdvme",
        "colab_type": "code",
        "colab": {
          "base_uri": "https://localhost:8080/",
          "height": 69
        },
        "outputId": "f45c1bf2-4b41-4180-d438-0fcf559d687e"
      },
      "source": [
        "d[0,0] = 9999\n",
        "a"
      ],
      "execution_count": 72,
      "outputs": [
        {
          "output_type": "execute_result",
          "data": {
            "text/plain": [
              "array([[   0,   10,   10,    3],\n",
              "       [1234,   10,   10,    7],\n",
              "       [   8,   10,   10,   11]])"
            ]
          },
          "metadata": {
            "tags": []
          },
          "execution_count": 72
        }
      ]
    },
    {
      "cell_type": "code",
      "metadata": {
        "id": "WcH_rHNJdy7j",
        "colab_type": "code",
        "colab": {}
      },
      "source": [
        "a"
      ],
      "execution_count": 0,
      "outputs": []
    }
  ]
}