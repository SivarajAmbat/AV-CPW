{
  "nbformat": 4,
  "nbformat_minor": 0,
  "metadata": {
    "colab": {
      "name": "NumPy Fundamentals.ipynb",
      "version": "0.3.2",
      "provenance": [],
      "collapsed_sections": [],
      "include_colab_link": true
    },
    "kernelspec": {
      "name": "python3",
      "display_name": "Python 3"
    }
  },
  "cells": [
    {
      "cell_type": "markdown",
      "metadata": {
        "id": "view-in-github",
        "colab_type": "text"
      },
      "source": [
        "<a href=\"https://colab.research.google.com/github/SivarajTechM/AV-CPW/blob/master/NumPy_Fundamentals.ipynb\" target=\"_parent\"><img src=\"https://colab.research.google.com/assets/colab-badge.svg\" alt=\"Open In Colab\"/></a>"
      ]
    },
    {
      "cell_type": "markdown",
      "metadata": {
        "id": "IPkDEX0cWNBg",
        "colab_type": "text"
      },
      "source": [
        "# Contents\n",
        "\n",
        "- NumPy vs. Python\n",
        "- Data Types\n",
        "- Array Types\n",
        "- Type Conversions\n",
        "- Array Creation\n",
        "- Indexing\n",
        "- Slicing\n",
        "- Shape Manipulation\n"
      ]
    },
    {
      "cell_type": "markdown",
      "metadata": {
        "id": "OzPHV2xhYlee",
        "colab_type": "text"
      },
      "source": [
        "# NumPy vs. Python\n",
        "\n",
        "- Less Coding in NumPy\n"
      ]
    },
    {
      "cell_type": "code",
      "metadata": {
        "id": "_mnIIAwPXj0Q",
        "colab_type": "code",
        "colab": {}
      },
      "source": [
        "# Adding vectors using pure Python\n",
        "\n",
        "def pythonsum(n):\n",
        "  a = list(range(n))\n",
        "  b = list(range(n))\n",
        "  c = []\n",
        "  \n",
        "  for i in range(len(a)):\n",
        "    a[i] = i ** 2\n",
        "    b[i] = i ** 3\n",
        "    c.append(a[i] + b[i])\n",
        "  \n",
        "  return c"
      ],
      "execution_count": 0,
      "outputs": []
    },
    {
      "cell_type": "code",
      "metadata": {
        "id": "lW3FELEsY2Rq",
        "colab_type": "code",
        "outputId": "7a969b1c-b38f-481a-fe58-5ab386e4c728",
        "colab": {
          "base_uri": "https://localhost:8080/",
          "height": 34
        }
      },
      "source": [
        "# Adding vectors in NumPy\n",
        "\n",
        "import numpy as np\n",
        "\n",
        "def numpysum(n):\n",
        "  a = np.arange(n) ** 2\n",
        "  b = np.arange(n) ** 3\n",
        "  c = a + b\n",
        "  return c\n",
        "\n",
        "numpysum(10)"
      ],
      "execution_count": 0,
      "outputs": [
        {
          "output_type": "execute_result",
          "data": {
            "text/plain": [
              "array([  0,   2,  12,  36,  80, 150, 252, 392, 576, 810])"
            ]
          },
          "metadata": {
            "tags": []
          },
          "execution_count": 3
        }
      ]
    },
    {
      "cell_type": "markdown",
      "metadata": {
        "id": "g4hUtYmnhIh3",
        "colab_type": "text"
      },
      "source": [
        "- NumPy is comparatively faster than Python"
      ]
    },
    {
      "cell_type": "code",
      "metadata": {
        "id": "qF-0Dnhhb4TU",
        "colab_type": "code",
        "outputId": "6334bb7a-f33d-4550-916c-377e065727eb",
        "colab": {
          "base_uri": "https://localhost:8080/",
          "height": 51
        }
      },
      "source": [
        "from datetime import datetime\n",
        "\n",
        "size = int(input(\"Enter any large number as size of the array: \"))\n",
        "\n",
        "start_time = datetime.now()\n",
        "c = pythonsum(size)\n",
        "time_taken = datetime.now() - start_time\n",
        "\n",
        "print(\"Time taken using Python: \", time_taken)\n"
      ],
      "execution_count": 0,
      "outputs": [
        {
          "output_type": "stream",
          "text": [
            "Enter any large number as size of the array: 10000000\n",
            "Time taken using Python:  0:00:09.631001\n"
          ],
          "name": "stdout"
        }
      ]
    },
    {
      "cell_type": "code",
      "metadata": {
        "id": "-S14HHyMdY2K",
        "colab_type": "code",
        "outputId": "bfd70a7f-c108-40c1-8175-c56cd1d31136",
        "colab": {
          "base_uri": "https://localhost:8080/",
          "height": 51
        }
      },
      "source": [
        "size = int(input(\"Enter any large number as size of the array: \"))\n",
        "\n",
        "start_time = datetime.now()\n",
        "c = numpysum(size)\n",
        "time_taken = datetime.now() - start_time\n",
        "\n",
        "print(\"Time taken using NumPy: \", time_taken)"
      ],
      "execution_count": 0,
      "outputs": [
        {
          "output_type": "stream",
          "text": [
            "Enter any large number as size of the array: 10000000\n",
            "Time taken using NumPy:  0:00:00.399164\n"
          ],
          "name": "stdout"
        }
      ]
    },
    {
      "cell_type": "code",
      "metadata": {
        "id": "x8v8nWcYd_Qc",
        "colab_type": "code",
        "outputId": "d5213353-fb7f-4ef7-b5b6-8dc367845eac",
        "colab": {
          "base_uri": "https://localhost:8080/",
          "height": 34
        }
      },
      "source": [
        "a = np.arange(5)\n",
        "a.dtype\n",
        "a.shape\n"
      ],
      "execution_count": 0,
      "outputs": [
        {
          "output_type": "execute_result",
          "data": {
            "text/plain": [
              "(5,)"
            ]
          },
          "metadata": {
            "tags": []
          },
          "execution_count": 16
        }
      ]
    },
    {
      "cell_type": "markdown",
      "metadata": {
        "id": "wxf73QnbengP",
        "colab_type": "text"
      },
      "source": [
        ""
      ]
    },
    {
      "cell_type": "code",
      "metadata": {
        "id": "WIgcqJTket7V",
        "colab_type": "code",
        "colab": {}
      },
      "source": [
        "for i in range(5): print(i)"
      ],
      "execution_count": 0,
      "outputs": []
    },
    {
      "cell_type": "code",
      "metadata": {
        "id": "EAtMmYxFhos0",
        "colab_type": "code",
        "colab": {}
      },
      "source": [
        "print(np.arange(5))"
      ],
      "execution_count": 0,
      "outputs": []
    },
    {
      "cell_type": "markdown",
      "metadata": {
        "id": "KKExs22223Tv",
        "colab_type": "text"
      },
      "source": [
        "# Introduction to vectors and matrices\n",
        "\n",
        "* A matrix is a group of numbers or elements which are arranged as a rectangular array\n",
        "\n",
        "* The matrix's rows and columns are usually indexed by a letter. For *n x m* matrix, *n* represents the number of rows and *m* representes number of columns\n",
        "\n",
        "* If *n = m* it is a square matrix\n",
        "\n",
        "$$\\begin{bmatrix} 1 & 2 & -1 \\\\ 3 & 0 & 1 \\\\ 0 & 2 & 4 \\end{bmatrix}$$\n",
        "\n",
        "* A vector is actually a matrix with one row or one column having more than one element. It can also be defined as a *1-by-m* or *n-by-1* matrix.\n",
        "\n",
        "* Zero matrix has all 0\n",
        "\n",
        "* Identity matrix has all diagonal elements as 1 while others are all 0\n",
        "\n",
        "* When you multiply a matrix with its inverse, the result will be an identity matrix\n",
        "\n",
        "* Matrix Arithmetic:\n",
        "  - Matrix Addition:\n",
        "  \n",
        "$$\\begin{bmatrix} 1 & 4 & 7 \\\\ 2 & 5 & 8 \\end{bmatrix}$$ +  $$\\begin{bmatrix} 10 & 14 & 16 \\\\ 13 & 18 & 21 \\end{bmatrix}$$ =  $$\\begin{bmatrix} 13 & 18 & 23 \\\\ 15 & 23 & 29 \\end{bmatrix}$$ \n",
        "  \n",
        "  - Matrix Subtraction:\n",
        "  \n",
        "  - Matrix Multiplication\n",
        "  \n",
        "  - Matrix Division:\n",
        "\n",
        "\n",
        "\n"
      ]
    },
    {
      "cell_type": "code",
      "metadata": {
        "id": "czgHUZnp9dQ-",
        "colab_type": "code",
        "colab": {}
      },
      "source": [
        ""
      ],
      "execution_count": 0,
      "outputs": []
    },
    {
      "cell_type": "code",
      "metadata": {
        "id": "ERaqUe0x9Tay",
        "colab_type": "code",
        "outputId": "c490aa37-a26d-4943-8b79-2a2634dd9ac3",
        "colab": {
          "base_uri": "https://localhost:8080/",
          "height": 51
        }
      },
      "source": [
        "import numpy as np\n",
        "x = np.array([[1,2,3],[4,5,6]])\n",
        "x"
      ],
      "execution_count": 0,
      "outputs": [
        {
          "output_type": "execute_result",
          "data": {
            "text/plain": [
              "array([[1, 2, 3],\n",
              "       [4, 5, 6]])"
            ]
          },
          "metadata": {
            "tags": []
          },
          "execution_count": 21
        }
      ]
    },
    {
      "cell_type": "code",
      "metadata": {
        "id": "v3-tnUv99zrt",
        "colab_type": "code",
        "outputId": "6ebb5ab2-ddeb-41c2-ac23-723a548e9259",
        "colab": {
          "base_uri": "https://localhost:8080/",
          "height": 34
        }
      },
      "source": [
        "print(\"The type of the array is : \", type(x))"
      ],
      "execution_count": 0,
      "outputs": [
        {
          "output_type": "stream",
          "text": [
            "The type of the array is :  <class 'numpy.ndarray'>\n"
          ],
          "name": "stdout"
        }
      ]
    },
    {
      "cell_type": "code",
      "metadata": {
        "id": "l8KhvJQd-zbs",
        "colab_type": "code",
        "outputId": "f9c7e225-419b-4624-d40a-25d3257a8042",
        "colab": {
          "base_uri": "https://localhost:8080/",
          "height": 34
        }
      },
      "source": [
        "print(\"The shape of the array is : \", x.shape)"
      ],
      "execution_count": 0,
      "outputs": [
        {
          "output_type": "stream",
          "text": [
            "The shape of the array is :  (2, 3)\n"
          ],
          "name": "stdout"
        }
      ]
    },
    {
      "cell_type": "code",
      "metadata": {
        "id": "lLbPpofg-77T",
        "colab_type": "code",
        "outputId": "1043db3b-bd01-4aaf-f40b-f01c8a887c69",
        "colab": {
          "base_uri": "https://localhost:8080/",
          "height": 34
        }
      },
      "source": [
        "print(\"The total size is :\", x.size)"
      ],
      "execution_count": 0,
      "outputs": [
        {
          "output_type": "stream",
          "text": [
            "The total size is : 6\n"
          ],
          "name": "stdout"
        }
      ]
    },
    {
      "cell_type": "code",
      "metadata": {
        "id": "PdtNY9jg_MIs",
        "colab_type": "code",
        "outputId": "74ce30bf-0fe2-4a06-9455-71a168da0d5a",
        "colab": {
          "base_uri": "https://localhost:8080/",
          "height": 34
        }
      },
      "source": [
        "print(\"The dimension of the array is :\", x.ndim)"
      ],
      "execution_count": 0,
      "outputs": [
        {
          "output_type": "stream",
          "text": [
            "The dimension of the array is : 2\n"
          ],
          "name": "stdout"
        }
      ]
    },
    {
      "cell_type": "code",
      "metadata": {
        "id": "lep7ka4z_r4o",
        "colab_type": "code",
        "outputId": "7421d8da-6be8-4e11-b3f3-b203f12e6009",
        "colab": {
          "base_uri": "https://localhost:8080/",
          "height": 34
        }
      },
      "source": [
        "print(\"The data types of the array elements are :\", x.dtype )"
      ],
      "execution_count": 0,
      "outputs": [
        {
          "output_type": "stream",
          "text": [
            "The data types of the array elements are : int64\n"
          ],
          "name": "stdout"
        }
      ]
    },
    {
      "cell_type": "code",
      "metadata": {
        "id": "SwIlgpz-_vPB",
        "colab_type": "code",
        "outputId": "0b29f2f4-270b-4f44-fff0-19bba05a6bfb",
        "colab": {
          "base_uri": "https://localhost:8080/",
          "height": 34
        }
      },
      "source": [
        "print(\"The array consumes :\", x.nbytes , \" bytes\")"
      ],
      "execution_count": 0,
      "outputs": [
        {
          "output_type": "stream",
          "text": [
            "The array consumes : 48  bytes\n"
          ],
          "name": "stdout"
        }
      ]
    },
    {
      "cell_type": "code",
      "metadata": {
        "id": "SsBe1mhoAV7A",
        "colab_type": "code",
        "outputId": "a7a775d8-656e-40c3-9339-fa3cc634a3d9",
        "colab": {
          "base_uri": "https://localhost:8080/",
          "height": 68
        }
      },
      "source": [
        "x = np.array([[1,2,3],[4,5,6]], dtype=np.float)\n",
        "print(x)\n",
        "print(\"Memory used: \", x.nbytes)"
      ],
      "execution_count": 0,
      "outputs": [
        {
          "output_type": "stream",
          "text": [
            "[[1. 2. 3.]\n",
            " [4. 5. 6.]]\n",
            "Memory used:  48\n"
          ],
          "name": "stdout"
        }
      ]
    },
    {
      "cell_type": "code",
      "metadata": {
        "id": "Mvt751p9OQmI",
        "colab_type": "code",
        "outputId": "7d111428-9025-4df1-a7d9-0f2ed82edeab",
        "colab": {
          "base_uri": "https://localhost:8080/",
          "height": 68
        }
      },
      "source": [
        "x = np.array([[1,2,3],[4,5,6]], dtype=np.complex)\n",
        "print(x)\n",
        "print(\"Memory used: \", x.nbytes)"
      ],
      "execution_count": 0,
      "outputs": [
        {
          "output_type": "stream",
          "text": [
            "[[1.+0.j 2.+0.j 3.+0.j]\n",
            " [4.+0.j 5.+0.j 6.+0.j]]\n",
            "Memory used:  96\n"
          ],
          "name": "stdout"
        }
      ]
    },
    {
      "cell_type": "code",
      "metadata": {
        "id": "tmR5xK0GOUVq",
        "colab_type": "code",
        "outputId": "efc767fb-d514-4567-d786-a3ce5c494c30",
        "colab": {
          "base_uri": "https://localhost:8080/",
          "height": 68
        }
      },
      "source": [
        "x = np.array([[1,2,3],[4,5,6]], dtype=np.uint32)\n",
        "print(x)\n",
        "print(\"Memory used: \", x.nbytes)"
      ],
      "execution_count": 0,
      "outputs": [
        {
          "output_type": "stream",
          "text": [
            "[[1 2 3]\n",
            " [4 5 6]]\n",
            "Memory used:  24\n"
          ],
          "name": "stdout"
        }
      ]
    },
    {
      "cell_type": "markdown",
      "metadata": {
        "id": "Yh8wpdYoPcX-",
        "colab_type": "text"
      },
      "source": [
        "You cannot change the dtype after creating the array. \n",
        "However, we can create a copy of the array with a new dtype and with the astype attribute."
      ]
    },
    {
      "cell_type": "code",
      "metadata": {
        "id": "oyQZHBEIPTdM",
        "colab_type": "code",
        "outputId": "883c6c37-e9c5-450d-b694-d6c0fe5b7fe7",
        "colab": {
          "base_uri": "https://localhost:8080/",
          "height": 51
        }
      },
      "source": [
        "x_copy = np.array(x, dtype = np.float)\n",
        "x_copy"
      ],
      "execution_count": 0,
      "outputs": [
        {
          "output_type": "execute_result",
          "data": {
            "text/plain": [
              "array([[1., 2., 3.],\n",
              "       [4., 5., 6.]])"
            ]
          },
          "metadata": {
            "tags": []
          },
          "execution_count": 28
        }
      ]
    },
    {
      "cell_type": "code",
      "metadata": {
        "id": "IxdeOSLYP0fN",
        "colab_type": "code",
        "outputId": "a50e0c3a-1ad8-45ad-9d01-4c49031b3f25",
        "colab": {
          "base_uri": "https://localhost:8080/",
          "height": 51
        }
      },
      "source": [
        "x_copy_int = x_copy.astype(np.int)\n",
        "x_copy_int"
      ],
      "execution_count": 0,
      "outputs": [
        {
          "output_type": "execute_result",
          "data": {
            "text/plain": [
              "array([[1, 2, 3],\n",
              "       [4, 5, 6]])"
            ]
          },
          "metadata": {
            "tags": []
          },
          "execution_count": 29
        }
      ]
    },
    {
      "cell_type": "markdown",
      "metadata": {
        "id": "6-DQbOmo940p",
        "colab_type": "text"
      },
      "source": [
        "## Effect of dtype: \n",
        "\n",
        "Imagine a case where you are trying to identify and calculate the risks of an individual patient who has cancer.\n",
        "\n",
        "If you have 100,000 records (rows), where each row represents a single patient, and each patient has 100 features (results of some of the tests), you have (100000, 100) arrays:"
      ]
    },
    {
      "cell_type": "code",
      "metadata": {
        "id": "uH1c7M0RQQO7",
        "colab_type": "code",
        "outputId": "ff6d4a19-f7e3-4e55-b8e7-4ce7eb813869",
        "colab": {
          "base_uri": "https://localhost:8080/",
          "height": 51
        }
      },
      "source": [
        "Data_Cancer= np.random.rand(100000,100)\n",
        "print(\"Memory consumption with dtype as \", Data_Cancer.dtype, \" : \", Data_Cancer.nbytes)\n",
        "\n",
        "Data_Cancer_New = np.array(Data_Cancer, dtype = np.float32)\n",
        "print(\"Memory consumption with dtype as \", Data_Cancer_New.dtype, \" : \",  Data_Cancer_New.nbytes)"
      ],
      "execution_count": 0,
      "outputs": [
        {
          "output_type": "stream",
          "text": [
            "Memory consumption with dtype as  float64  :  80000000\n",
            "Memory consumption with dtype as  float32  :  40000000\n"
          ],
          "name": "stdout"
        }
      ]
    },
    {
      "cell_type": "markdown",
      "metadata": {
        "id": "4L8K7P-aRiWL",
        "colab_type": "text"
      },
      "source": [
        "# NumPy array operations\n"
      ]
    },
    {
      "cell_type": "markdown",
      "metadata": {
        "id": "PprwnXr0SSSI",
        "colab_type": "text"
      },
      "source": [
        "## Creating NumPy array from a list:"
      ]
    },
    {
      "cell_type": "code",
      "metadata": {
        "id": "x2SjYLT6SMeP",
        "colab_type": "code",
        "outputId": "74d98009-818a-4376-a751-2c32049ae3b6",
        "colab": {
          "base_uri": "https://localhost:8080/",
          "height": 34
        }
      },
      "source": [
        "my_list = [2, 14, 6, 8]\n",
        "\n",
        "my_array = np.asarray(my_list)\n",
        "type(my_array)"
      ],
      "execution_count": 0,
      "outputs": [
        {
          "output_type": "execute_result",
          "data": {
            "text/plain": [
              "numpy.ndarray"
            ]
          },
          "metadata": {
            "tags": []
          },
          "execution_count": 34
        }
      ]
    },
    {
      "cell_type": "markdown",
      "metadata": {
        "id": "4l1Qwi4KSXRy",
        "colab_type": "text"
      },
      "source": [
        "## Arithmetic operations with scalar value:"
      ]
    },
    {
      "cell_type": "code",
      "metadata": {
        "id": "3tNrdxlZSO6o",
        "colab_type": "code",
        "outputId": "449e8d5f-3d6b-48c1-ffee-a670983b4626",
        "colab": {
          "base_uri": "https://localhost:8080/",
          "height": 85
        }
      },
      "source": [
        "print(my_array + 2)\n",
        "\n",
        "print(my_array - 1)\n",
        "\n",
        "print(my_array * 2)\n",
        "\n",
        "print(my_array / 2)\n"
      ],
      "execution_count": 0,
      "outputs": [
        {
          "output_type": "stream",
          "text": [
            "[ 4 16  8 10]\n",
            "[ 1 13  5  7]\n",
            "[ 4 28 12 16]\n",
            "[1. 7. 3. 4.]\n"
          ],
          "name": "stdout"
        }
      ]
    },
    {
      "cell_type": "markdown",
      "metadata": {
        "id": "OXi7ww6jTPax",
        "colab_type": "text"
      },
      "source": [
        "## Arithmetic operations between arrays:\n"
      ]
    },
    {
      "cell_type": "markdown",
      "metadata": {
        "id": "b_nmUl6X8kqd",
        "colab_type": "text"
      },
      "source": [
        "# Creating Arrays"
      ]
    },
    {
      "cell_type": "code",
      "metadata": {
        "id": "O2j6Ffi5hrXE",
        "colab_type": "code",
        "outputId": "f1f874b3-4393-487a-a0a6-e2bc534f6b51",
        "colab": {
          "base_uri": "https://localhost:8080/",
          "height": 68
        }
      },
      "source": [
        "import numpy as np\n",
        "\n",
        "# a = np.arange(15)\n",
        "# a\n",
        "\n",
        "a = np.arange(15).reshape(3,5)\n",
        "a\n"
      ],
      "execution_count": 0,
      "outputs": [
        {
          "output_type": "execute_result",
          "data": {
            "text/plain": [
              "array([[ 0,  1,  2,  3,  4],\n",
              "       [ 5,  6,  7,  8,  9],\n",
              "       [10, 11, 12, 13, 14]])"
            ]
          },
          "metadata": {
            "tags": []
          },
          "execution_count": 20
        }
      ]
    },
    {
      "cell_type": "code",
      "metadata": {
        "id": "vAdEoWIf--8w",
        "colab_type": "code",
        "outputId": "a8e588d3-a406-4e4e-f5c0-f469c565ec7e",
        "colab": {
          "base_uri": "https://localhost:8080/",
          "height": 34
        }
      },
      "source": [
        "a.shape"
      ],
      "execution_count": 0,
      "outputs": [
        {
          "output_type": "execute_result",
          "data": {
            "text/plain": [
              "(3, 5)"
            ]
          },
          "metadata": {
            "tags": []
          },
          "execution_count": 21
        }
      ]
    },
    {
      "cell_type": "code",
      "metadata": {
        "id": "2gK1nVpvAv2u",
        "colab_type": "code",
        "outputId": "b0dba7cd-7699-459c-8b76-754eb4aa684e",
        "colab": {
          "base_uri": "https://localhost:8080/",
          "height": 34
        }
      },
      "source": [
        "a.ndim"
      ],
      "execution_count": 0,
      "outputs": [
        {
          "output_type": "execute_result",
          "data": {
            "text/plain": [
              "2"
            ]
          },
          "metadata": {
            "tags": []
          },
          "execution_count": 22
        }
      ]
    },
    {
      "cell_type": "code",
      "metadata": {
        "id": "ZqK9t8b6AxI-",
        "colab_type": "code",
        "outputId": "1fd0db64-186c-4c9d-dd84-57eeb0e67f98",
        "colab": {
          "base_uri": "https://localhost:8080/",
          "height": 34
        }
      },
      "source": [
        "a.dtype.name"
      ],
      "execution_count": 0,
      "outputs": [
        {
          "output_type": "execute_result",
          "data": {
            "text/plain": [
              "'int64'"
            ]
          },
          "metadata": {
            "tags": []
          },
          "execution_count": 23
        }
      ]
    },
    {
      "cell_type": "code",
      "metadata": {
        "id": "8THr0r5uAzH-",
        "colab_type": "code",
        "outputId": "f2f79df1-5480-47c0-9780-45df365a570f",
        "colab": {
          "base_uri": "https://localhost:8080/",
          "height": 34
        }
      },
      "source": [
        "a.itemsize"
      ],
      "execution_count": 0,
      "outputs": [
        {
          "output_type": "execute_result",
          "data": {
            "text/plain": [
              "8"
            ]
          },
          "metadata": {
            "tags": []
          },
          "execution_count": 24
        }
      ]
    },
    {
      "cell_type": "code",
      "metadata": {
        "id": "I7oEebUDA00O",
        "colab_type": "code",
        "outputId": "cf05e906-2ba5-471b-b7cd-6355d07fa9a5",
        "colab": {
          "base_uri": "https://localhost:8080/",
          "height": 34
        }
      },
      "source": [
        "a.size"
      ],
      "execution_count": 0,
      "outputs": [
        {
          "output_type": "execute_result",
          "data": {
            "text/plain": [
              "15"
            ]
          },
          "metadata": {
            "tags": []
          },
          "execution_count": 25
        }
      ]
    },
    {
      "cell_type": "code",
      "metadata": {
        "id": "opNfPmkFA5Qv",
        "colab_type": "code",
        "outputId": "a3d8ce12-a5be-4527-c65b-a76da09f618c",
        "colab": {
          "base_uri": "https://localhost:8080/",
          "height": 34
        }
      },
      "source": [
        "type(a)"
      ],
      "execution_count": 0,
      "outputs": [
        {
          "output_type": "execute_result",
          "data": {
            "text/plain": [
              "numpy.ndarray"
            ]
          },
          "metadata": {
            "tags": []
          },
          "execution_count": 26
        }
      ]
    },
    {
      "cell_type": "code",
      "metadata": {
        "id": "AxfN0OovA7Ff",
        "colab_type": "code",
        "outputId": "f4894b32-0177-401b-fa54-a00081ba33c2",
        "colab": {
          "base_uri": "https://localhost:8080/",
          "height": 34
        }
      },
      "source": [
        "b = np.array([6,7,8])\n",
        "b"
      ],
      "execution_count": 0,
      "outputs": [
        {
          "output_type": "execute_result",
          "data": {
            "text/plain": [
              "array([6, 7, 8])"
            ]
          },
          "metadata": {
            "tags": []
          },
          "execution_count": 27
        }
      ]
    },
    {
      "cell_type": "code",
      "metadata": {
        "id": "CJKHT_eEBBCf",
        "colab_type": "code",
        "outputId": "c1f9ad31-876d-48a9-f678-fece2aa1feb7",
        "colab": {
          "base_uri": "https://localhost:8080/",
          "height": 34
        }
      },
      "source": [
        "type(b)"
      ],
      "execution_count": 0,
      "outputs": [
        {
          "output_type": "execute_result",
          "data": {
            "text/plain": [
              "numpy.ndarray"
            ]
          },
          "metadata": {
            "tags": []
          },
          "execution_count": 28
        }
      ]
    },
    {
      "cell_type": "code",
      "metadata": {
        "id": "jO8IxroMBCuH",
        "colab_type": "code",
        "outputId": "44aae82f-0c68-4adb-f6c2-ee37bc9678cf",
        "colab": {
          "base_uri": "https://localhost:8080/",
          "height": 136
        }
      },
      "source": [
        "print(np.arange(10000).reshape(100,100))"
      ],
      "execution_count": 0,
      "outputs": [
        {
          "output_type": "stream",
          "text": [
            "[[   0    1    2 ...   97   98   99]\n",
            " [ 100  101  102 ...  197  198  199]\n",
            " [ 200  201  202 ...  297  298  299]\n",
            " ...\n",
            " [9700 9701 9702 ... 9797 9798 9799]\n",
            " [9800 9801 9802 ... 9897 9898 9899]\n",
            " [9900 9901 9902 ... 9997 9998 9999]]\n"
          ],
          "name": "stdout"
        }
      ]
    },
    {
      "cell_type": "code",
      "metadata": {
        "id": "UbGlHMSsBRUg",
        "colab_type": "code",
        "outputId": "f9c9e502-e85b-45af-e579-18a3e03647de",
        "colab": {
          "base_uri": "https://localhost:8080/",
          "height": 327
        }
      },
      "source": [
        "np.set_printoptions(threshold=np.nan)"
      ],
      "execution_count": 0,
      "outputs": [
        {
          "output_type": "error",
          "ename": "ValueError",
          "evalue": "ignored",
          "traceback": [
            "\u001b[0;31m---------------------------------------------------------------------------\u001b[0m",
            "\u001b[0;31mValueError\u001b[0m                                Traceback (most recent call last)",
            "\u001b[0;32m<ipython-input-33-99d2dafa7c0f>\u001b[0m in \u001b[0;36m<module>\u001b[0;34m()\u001b[0m\n\u001b[0;32m----> 1\u001b[0;31m \u001b[0mnp\u001b[0m\u001b[0;34m.\u001b[0m\u001b[0mset_printoptions\u001b[0m\u001b[0;34m(\u001b[0m\u001b[0mthreshold\u001b[0m\u001b[0;34m=\u001b[0m\u001b[0mnp\u001b[0m\u001b[0;34m.\u001b[0m\u001b[0mnan\u001b[0m\u001b[0;34m)\u001b[0m\u001b[0;34m\u001b[0m\u001b[0;34m\u001b[0m\u001b[0m\n\u001b[0m",
            "\u001b[0;32m/usr/local/lib/python3.6/dist-packages/numpy/core/arrayprint.py\u001b[0m in \u001b[0;36mset_printoptions\u001b[0;34m(precision, threshold, edgeitems, linewidth, suppress, nanstr, infstr, formatter, sign, floatmode, **kwarg)\u001b[0m\n\u001b[1;32m    244\u001b[0m     opt = _make_options_dict(precision, threshold, edgeitems, linewidth,\n\u001b[1;32m    245\u001b[0m                              \u001b[0msuppress\u001b[0m\u001b[0;34m,\u001b[0m \u001b[0mnanstr\u001b[0m\u001b[0;34m,\u001b[0m \u001b[0minfstr\u001b[0m\u001b[0;34m,\u001b[0m \u001b[0msign\u001b[0m\u001b[0;34m,\u001b[0m \u001b[0mformatter\u001b[0m\u001b[0;34m,\u001b[0m\u001b[0;34m\u001b[0m\u001b[0;34m\u001b[0m\u001b[0m\n\u001b[0;32m--> 246\u001b[0;31m                              floatmode, legacy)\n\u001b[0m\u001b[1;32m    247\u001b[0m     \u001b[0;31m# formatter is always reset\u001b[0m\u001b[0;34m\u001b[0m\u001b[0;34m\u001b[0m\u001b[0;34m\u001b[0m\u001b[0m\n\u001b[1;32m    248\u001b[0m     \u001b[0mopt\u001b[0m\u001b[0;34m[\u001b[0m\u001b[0;34m'formatter'\u001b[0m\u001b[0;34m]\u001b[0m \u001b[0;34m=\u001b[0m \u001b[0mformatter\u001b[0m\u001b[0;34m\u001b[0m\u001b[0;34m\u001b[0m\u001b[0m\n",
            "\u001b[0;32m/usr/local/lib/python3.6/dist-packages/numpy/core/arrayprint.py\u001b[0m in \u001b[0;36m_make_options_dict\u001b[0;34m(precision, threshold, edgeitems, linewidth, suppress, nanstr, infstr, sign, formatter, floatmode, legacy)\u001b[0m\n\u001b[1;32m     91\u001b[0m         \u001b[0;31m# forbid the bad threshold arg suggested by stack overflow, gh-12351\u001b[0m\u001b[0;34m\u001b[0m\u001b[0;34m\u001b[0m\u001b[0;34m\u001b[0m\u001b[0m\n\u001b[1;32m     92\u001b[0m         \u001b[0;32mif\u001b[0m \u001b[0;32mnot\u001b[0m \u001b[0misinstance\u001b[0m\u001b[0;34m(\u001b[0m\u001b[0mthreshold\u001b[0m\u001b[0;34m,\u001b[0m \u001b[0mnumbers\u001b[0m\u001b[0;34m.\u001b[0m\u001b[0mNumber\u001b[0m\u001b[0;34m)\u001b[0m \u001b[0;32mor\u001b[0m \u001b[0mnp\u001b[0m\u001b[0;34m.\u001b[0m\u001b[0misnan\u001b[0m\u001b[0;34m(\u001b[0m\u001b[0mthreshold\u001b[0m\u001b[0;34m)\u001b[0m\u001b[0;34m:\u001b[0m\u001b[0;34m\u001b[0m\u001b[0;34m\u001b[0m\u001b[0m\n\u001b[0;32m---> 93\u001b[0;31m             raise ValueError(\"threshold must be numeric and non-NAN, try \"\n\u001b[0m\u001b[1;32m     94\u001b[0m                              \"sys.maxsize for untruncated representation\")\n\u001b[1;32m     95\u001b[0m     \u001b[0;32mreturn\u001b[0m \u001b[0moptions\u001b[0m\u001b[0;34m\u001b[0m\u001b[0;34m\u001b[0m\u001b[0m\n",
            "\u001b[0;31mValueError\u001b[0m: threshold must be numeric and non-NAN, try sys.maxsize for untruncated representation"
          ]
        }
      ]
    },
    {
      "cell_type": "markdown",
      "metadata": {
        "id": "ecDy9TihCGPr",
        "colab_type": "text"
      },
      "source": [
        "# Basic Operations"
      ]
    },
    {
      "cell_type": "code",
      "metadata": {
        "id": "MWTQNI8tBgQK",
        "colab_type": "code",
        "outputId": "ac3c2a15-e07b-4578-e8e1-fa4301a646bf",
        "colab": {
          "base_uri": "https://localhost:8080/",
          "height": 34
        }
      },
      "source": [
        "a = np.array([10,20,30,40])\n",
        "b = np.arange(4)\n",
        "b"
      ],
      "execution_count": 0,
      "outputs": [
        {
          "output_type": "execute_result",
          "data": {
            "text/plain": [
              "array([0, 1, 2, 3])"
            ]
          },
          "metadata": {
            "tags": []
          },
          "execution_count": 34
        }
      ]
    },
    {
      "cell_type": "code",
      "metadata": {
        "id": "Sw-trxptCQUs",
        "colab_type": "code",
        "outputId": "2e60efcd-63ce-4c13-8372-aa289f0de432",
        "colab": {
          "base_uri": "https://localhost:8080/",
          "height": 34
        }
      },
      "source": [
        "c = a - b\n",
        "c"
      ],
      "execution_count": 0,
      "outputs": [
        {
          "output_type": "execute_result",
          "data": {
            "text/plain": [
              "array([10, 19, 28, 37])"
            ]
          },
          "metadata": {
            "tags": []
          },
          "execution_count": 36
        }
      ]
    },
    {
      "cell_type": "code",
      "metadata": {
        "id": "fertlmVKCSxT",
        "colab_type": "code",
        "outputId": "3ae57220-7971-4803-f2dd-480e807199ce",
        "colab": {
          "base_uri": "https://localhost:8080/",
          "height": 34
        }
      },
      "source": [
        "b ** 2\n"
      ],
      "execution_count": 0,
      "outputs": [
        {
          "output_type": "execute_result",
          "data": {
            "text/plain": [
              "array([0, 1, 4, 9])"
            ]
          },
          "metadata": {
            "tags": []
          },
          "execution_count": 37
        }
      ]
    },
    {
      "cell_type": "code",
      "metadata": {
        "id": "tDLEcCZ9CZwk",
        "colab_type": "code",
        "outputId": "091474dd-806a-4baf-8a60-e38dd6141803",
        "colab": {
          "base_uri": "https://localhost:8080/",
          "height": 34
        }
      },
      "source": [
        "10 * np.sin(a)"
      ],
      "execution_count": 0,
      "outputs": [
        {
          "output_type": "execute_result",
          "data": {
            "text/plain": [
              "array([-5.44021111,  9.12945251, -9.88031624,  7.4511316 ])"
            ]
          },
          "metadata": {
            "tags": []
          },
          "execution_count": 38
        }
      ]
    },
    {
      "cell_type": "code",
      "metadata": {
        "id": "IVqHzJ9MCeUd",
        "colab_type": "code",
        "outputId": "5981b67e-15cc-4105-8313-cb36d48ff126",
        "colab": {
          "base_uri": "https://localhost:8080/",
          "height": 34
        }
      },
      "source": [
        "a < 35"
      ],
      "execution_count": 0,
      "outputs": [
        {
          "output_type": "execute_result",
          "data": {
            "text/plain": [
              "array([ True,  True,  True, False])"
            ]
          },
          "metadata": {
            "tags": []
          },
          "execution_count": 39
        }
      ]
    },
    {
      "cell_type": "code",
      "metadata": {
        "id": "WToZpCV_Cgoo",
        "colab_type": "code",
        "colab": {}
      },
      "source": [
        ""
      ],
      "execution_count": 0,
      "outputs": []
    },
    {
      "cell_type": "markdown",
      "metadata": {
        "id": "NMoIKWybdSPt",
        "colab_type": "text"
      },
      "source": [
        "![alt text](https://raw.githubusercontent.com/SivarajTechM/shared-public/master/Developer.jpg)"
      ]
    }
  ]
}